{
 "cells": [
  {
   "cell_type": "markdown",
   "metadata": {
    "colab_type": "text",
    "id": "4embtkV0pNxM"
   },
   "source": [
    "Deep Learning\n",
    "=============\n",
    "\n",
    "Assignment 4\n",
    "------------\n",
    "\n",
    "Previously in `2_fullyconnected.ipynb` and `3_regularization.ipynb`, we trained fully connected networks to classify [notMNIST](http://yaroslavvb.blogspot.com/2011/09/notmnist-dataset.html) characters.\n",
    "\n",
    "The goal of this assignment is make the neural network convolutional."
   ]
  },
  {
   "cell_type": "code",
   "execution_count": 1,
   "metadata": {
    "cellView": "both",
    "colab": {
     "autoexec": {
      "startup": false,
      "wait_interval": 0
     }
    },
    "colab_type": "code",
    "collapsed": true,
    "id": "tm2CQN_Cpwj0"
   },
   "outputs": [],
   "source": [
    "# These are all the modules we'll be using later. Make sure you can import them\n",
    "# before proceeding further.\n",
    "from __future__ import print_function\n",
    "import numpy as np\n",
    "import tensorflow as tf\n",
    "from six.moves import cPickle as pickle\n",
    "from six.moves import range"
   ]
  },
  {
   "cell_type": "code",
   "execution_count": 2,
   "metadata": {
    "cellView": "both",
    "colab": {
     "autoexec": {
      "startup": false,
      "wait_interval": 0
     },
     "output_extras": [
      {
       "item_id": 1
      }
     ]
    },
    "colab_type": "code",
    "executionInfo": {
     "elapsed": 11948,
     "status": "ok",
     "timestamp": 1446658914837,
     "user": {
      "color": "",
      "displayName": "",
      "isAnonymous": false,
      "isMe": true,
      "permissionId": "",
      "photoUrl": "",
      "sessionId": "0",
      "userId": ""
     },
     "user_tz": 480
    },
    "id": "y3-cj1bpmuxc",
    "outputId": "016b1a51-0290-4b08-efdb-8c95ffc3cd01"
   },
   "outputs": [
    {
     "name": "stdout",
     "output_type": "stream",
     "text": [
      "Training set (200000, 28, 28) (200000,)\n",
      "Validation set (10000, 28, 28) (10000,)\n",
      "Test set (10000, 28, 28) (10000,)\n"
     ]
    }
   ],
   "source": [
    "pickle_file = 'notMNIST.pickle'\n",
    "\n",
    "with open(pickle_file, 'rb') as f:\n",
    "    save = pickle.load(f)\n",
    "    train_dataset = save['train_dataset']\n",
    "    train_labels = save['train_labels']\n",
    "    valid_dataset = save['valid_dataset']\n",
    "    valid_labels = save['valid_labels']\n",
    "    test_dataset = save['test_dataset']\n",
    "    test_labels = save['test_labels']\n",
    "    del save  # hint to help gc free up memory\n",
    "    print('Training set', train_dataset.shape, train_labels.shape)\n",
    "    print('Validation set', valid_dataset.shape, valid_labels.shape)\n",
    "    print('Test set', test_dataset.shape, test_labels.shape)"
   ]
  },
  {
   "cell_type": "markdown",
   "metadata": {
    "colab_type": "text",
    "id": "L7aHrm6nGDMB"
   },
   "source": [
    "Reformat into a TensorFlow-friendly shape:\n",
    "- convolutions need the image data formatted as a cube (width by height by #channels)\n",
    "- labels as float 1-hot encodings."
   ]
  },
  {
   "cell_type": "code",
   "execution_count": 3,
   "metadata": {
    "cellView": "both",
    "colab": {
     "autoexec": {
      "startup": false,
      "wait_interval": 0
     },
     "output_extras": [
      {
       "item_id": 1
      }
     ]
    },
    "colab_type": "code",
    "executionInfo": {
     "elapsed": 11952,
     "status": "ok",
     "timestamp": 1446658914857,
     "user": {
      "color": "",
      "displayName": "",
      "isAnonymous": false,
      "isMe": true,
      "permissionId": "",
      "photoUrl": "",
      "sessionId": "0",
      "userId": ""
     },
     "user_tz": 480
    },
    "id": "IRSyYiIIGIzS",
    "outputId": "650a208c-8359-4852-f4f5-8bf10e80ef6c"
   },
   "outputs": [
    {
     "name": "stdout",
     "output_type": "stream",
     "text": [
      "Training set (200000, 28, 28, 1) (200000, 10)\n",
      "Validation set (10000, 28, 28, 1) (10000, 10)\n",
      "Test set (10000, 28, 28, 1) (10000, 10)\n"
     ]
    }
   ],
   "source": [
    "image_size = 28\n",
    "num_labels = 10\n",
    "num_channels = 1 # grayscale\n",
    "\n",
    "import numpy as np\n",
    "\n",
    "def reformat(dataset, labels):\n",
    "    dataset = dataset.reshape((-1, image_size, image_size, num_channels)).astype(np.float32)\n",
    "    labels = (np.arange(num_labels) == labels[:,None]).astype(np.float32)\n",
    "    return dataset, labels\n",
    "\n",
    "train_dataset, train_labels = reformat(train_dataset, train_labels)\n",
    "valid_dataset, valid_labels = reformat(valid_dataset, valid_labels)\n",
    "test_dataset, test_labels = reformat(test_dataset, test_labels)\n",
    "print('Training set', train_dataset.shape, train_labels.shape)\n",
    "print('Validation set', valid_dataset.shape, valid_labels.shape)\n",
    "print('Test set', test_dataset.shape, test_labels.shape)"
   ]
  },
  {
   "cell_type": "code",
   "execution_count": 4,
   "metadata": {
    "cellView": "both",
    "colab": {
     "autoexec": {
      "startup": false,
      "wait_interval": 0
     }
    },
    "colab_type": "code",
    "collapsed": true,
    "id": "AgQDIREv02p1"
   },
   "outputs": [],
   "source": [
    "def accuracy(predictions, labels):\n",
    "    return (100.0 * np.sum(np.argmax(predictions, 1) == np.argmax(labels, 1)) / predictions.shape[0])"
   ]
  },
  {
   "cell_type": "markdown",
   "metadata": {
    "colab_type": "text",
    "id": "5rhgjmROXu2O"
   },
   "source": [
    "Let's build a small network with two convolutional layers, followed by one fully connected layer. Convolutional networks are more expensive computationally, so we'll limit its depth and number of fully connected nodes."
   ]
  },
  {
   "cell_type": "code",
   "execution_count": 5,
   "metadata": {
    "cellView": "both",
    "colab": {
     "autoexec": {
      "startup": false,
      "wait_interval": 0
     }
    },
    "colab_type": "code",
    "collapsed": true,
    "id": "IZYv70SvvOan"
   },
   "outputs": [],
   "source": [
    "batch_size = 16\n",
    "patch_size = 5\n",
    "depth = 16\n",
    "num_hidden = 64\n",
    "\n",
    "graph = tf.Graph()\n",
    "with graph.as_default():\n",
    "\n",
    "    # Input data.\n",
    "    tf_train_dataset = tf.placeholder(tf.float32, shape=(batch_size, image_size, image_size, num_channels))\n",
    "    tf_train_labels = tf.placeholder(tf.float32, shape=(batch_size, num_labels))\n",
    "    \n",
    "    tf_valid_dataset = tf.constant(valid_dataset)\n",
    "    tf_test_dataset = tf.constant(test_dataset)\n",
    "\n",
    "    # Variables.\n",
    "    layer1_weights = tf.Variable(tf.truncated_normal([patch_size, patch_size, num_channels, depth], stddev=0.1))\n",
    "    layer1_biases = tf.Variable(tf.zeros([depth]))\n",
    "    layer2_weights = tf.Variable(tf.truncated_normal([patch_size, patch_size, depth, depth], stddev=0.1))\n",
    "    layer2_biases = tf.Variable(tf.constant(1.0, shape=[depth]))\n",
    "    layer3_weights = tf.Variable(tf.truncated_normal([image_size // 4 * image_size // 4 * depth, num_hidden], stddev=0.1))\n",
    "    layer3_biases = tf.Variable(tf.constant(1.0, shape=[num_hidden]))\n",
    "    layer4_weights = tf.Variable(tf.truncated_normal([num_hidden, num_labels], stddev=0.1))\n",
    "    layer4_biases = tf.Variable(tf.constant(1.0, shape=[num_labels]))\n",
    "  \n",
    "    # Model.\n",
    "    def model(data):\n",
    "        conv = tf.nn.conv2d(data, layer1_weights, [1, 2, 2, 1], padding='SAME')\n",
    "        hidden = tf.nn.relu(conv + layer1_biases)\n",
    "        conv = tf.nn.conv2d(hidden, layer2_weights, [1, 2, 2, 1], padding='SAME')\n",
    "        hidden = tf.nn.relu(conv + layer2_biases)\n",
    "        shape = hidden.get_shape().as_list()\n",
    "        reshape = tf.reshape(hidden, [shape[0], shape[1] * shape[2] * shape[3]])\n",
    "        hidden = tf.nn.relu(tf.matmul(reshape, layer3_weights) + layer3_biases)\n",
    "        return tf.matmul(hidden, layer4_weights) + layer4_biases\n",
    "\n",
    "    # Training computation.\n",
    "    logits = model(tf_train_dataset)\n",
    "    loss = tf.reduce_mean(tf.nn.softmax_cross_entropy_with_logits(labels=tf_train_labels, logits=logits))\n",
    "\n",
    "    # Optimizer.\n",
    "    optimizer = tf.train.GradientDescentOptimizer(0.05).minimize(loss)\n",
    "\n",
    "    # Predictions for the training, validation, and test data.\n",
    "    train_prediction = tf.nn.softmax(logits)\n",
    "    valid_prediction = tf.nn.softmax(model(tf_valid_dataset))\n",
    "    test_prediction = tf.nn.softmax(model(tf_test_dataset))"
   ]
  },
  {
   "cell_type": "markdown",
   "metadata": {
    "colab_type": "text",
    "id": "KedKkn4EutIK"
   },
   "source": [
    "---\n",
    "Problem 1\n",
    "---------\n",
    "\n",
    "The convolutional model above uses convolutions with stride 2 to reduce the dimensionality. Replace the strides by a max pooling operation (`nn.max_pool()`) of stride 2 and kernel size 2.\n",
    "\n",
    "---"
   ]
  },
  {
   "cell_type": "code",
   "execution_count": 6,
   "metadata": {
    "collapsed": true
   },
   "outputs": [],
   "source": [
    "def flatten_tf_array(array):\n",
    "    shape = array.get_shape().as_list()\n",
    "    return tf.reshape(array, [shape[0], shape[1] * shape[2] * shape[3]])"
   ]
  },
  {
   "cell_type": "code",
   "execution_count": 7,
   "metadata": {
    "collapsed": true
   },
   "outputs": [],
   "source": [
    "graph = tf.Graph()\n",
    "with graph.as_default():\n",
    "\n",
    "    tf_train_dataset = tf.placeholder(tf.float32, shape=(batch_size, image_size, image_size, num_channels))\n",
    "    tf_train_labels = tf.placeholder(tf.float32, shape=(batch_size, num_labels))\n",
    "    tf_valid_dataset = tf.constant(valid_dataset)\n",
    "    tf_test_dataset = tf.constant(test_dataset)\n",
    "\n",
    "    layer1_weights = tf.Variable(tf.truncated_normal([patch_size, patch_size, num_channels, depth], stddev=0.1))\n",
    "    layer1_biases = tf.Variable(tf.zeros([depth]))\n",
    "    layer2_weights = tf.Variable(tf.truncated_normal([patch_size, patch_size, depth, depth], stddev=0.1))\n",
    "    layer2_biases = tf.Variable(tf.constant(1.0, shape=[depth]))\n",
    "    layer3_weights = tf.Variable(tf.truncated_normal([image_size // 4 * image_size // 4 * depth, num_hidden], stddev=0.1))\n",
    "    layer3_biases = tf.Variable(tf.constant(1.0, shape=[num_hidden]))\n",
    "    layer4_weights = tf.Variable(tf.truncated_normal([num_hidden, num_labels], stddev=0.1))\n",
    "    layer4_biases = tf.Variable(tf.constant(1.0, shape=[num_labels]))\n",
    "  \n",
    "    def model(data):\n",
    "        layer1_conv = tf.nn.conv2d(data, layer1_weights, [1, 1, 1, 1], padding='SAME')        \n",
    "        layer1_actv = tf.nn.relu(layer1_conv + layer1_biases)\n",
    "        layer1_pool = tf.nn.max_pool(layer1_actv, [1, 2, 2, 1], [1, 2, 2, 1], padding='SAME')        \n",
    "        layer2_conv = tf.nn.conv2d(layer1_pool, layer2_weights, [1, 1, 1, 1], padding='SAME')\n",
    "        layer2_actv = tf.nn.relu(layer2_conv + layer2_biases)\n",
    "        layer2_pool = tf.nn.max_pool(layer2_actv, [1, 2, 2, 1], [1, 2, 2, 1], padding='SAME')        \n",
    "        flat_layer = flatten_tf_array(layer2_pool)\n",
    "        layer3_fccd = tf.matmul(flat_layer, layer3_weights) + layer3_biases\n",
    "        layer3_actv = tf.nn.relu(layer3_fccd)        \n",
    "        logits = tf.matmul(layer3_actv, layer4_weights) + layer4_biases        \n",
    "        return logits        \n",
    "\n",
    "    logits = model(tf_train_dataset)\n",
    "    loss = tf.reduce_mean(tf.nn.softmax_cross_entropy_with_logits(labels=tf_train_labels, logits=logits))\n",
    "\n",
    "    optimizer = tf.train.GradientDescentOptimizer(0.05).minimize(loss)\n",
    "\n",
    "    train_prediction = tf.nn.softmax(logits)\n",
    "    valid_prediction = tf.nn.softmax(model(tf_valid_dataset))\n",
    "    test_prediction = tf.nn.softmax(model(tf_test_dataset))         "
   ]
  },
  {
   "cell_type": "markdown",
   "metadata": {
    "colab_type": "text",
    "id": "klf21gpbAgb-"
   },
   "source": [
    "---\n",
    "Problem 2\n",
    "---------\n",
    "\n",
    "Try to get the best performance you can using a convolutional net. Look for example at the classic [LeNet5](http://yann.lecun.com/exdb/lenet/) architecture, adding Dropout, and/or adding learning rate decay.\n",
    "\n",
    "---"
   ]
  },
  {
   "cell_type": "code",
   "execution_count": 18,
   "metadata": {
    "collapsed": true
   },
   "outputs": [],
   "source": [
    "def loss_l2(beta):\n",
    "    variables = tf.trainable_variables()\n",
    "    lossl2 = tf.add_n([tf.nn.l2_loss(i) for i in variables]) * beta\n",
    "    return lossl2"
   ]
  },
  {
   "cell_type": "code",
   "execution_count": 141,
   "metadata": {},
   "outputs": [],
   "source": [
    "batch_size = 32 \n",
    "learning_rate = 0.1\n",
    "decay_rate = 0.98\n",
    "beta = 0.00015\n",
    "keep_prob = 1.0\n",
    "\n",
    "graph = tf.Graph()\n",
    "with graph.as_default():\n",
    "    \n",
    "    tf_train_dataset = tf.placeholder(tf.float32, shape=(batch_size, image_size, image_size, num_channels))\n",
    "    tf_train_labels = tf.placeholder(tf.float32, shape=(batch_size, num_labels))\n",
    "    tf_keep_prob = tf.placeholder(tf.float32)\n",
    "    \n",
    "    tf_valid_dataset = tf.constant(valid_dataset)\n",
    "    tf_test_dataset = tf.constant(test_dataset)    \n",
    "    \n",
    "    # LeNet5\n",
    "    filter_size = 5\n",
    "    filter_depth1 = 6\n",
    "    filter_depth2 = 16\n",
    "    num_hidden1 = 120\n",
    "    num_hidden2 = 84\n",
    "    \n",
    "    w1 = tf.Variable(tf.truncated_normal([filter_size, filter_size, num_channels, filter_depth1], stddev=0.1))\n",
    "    b1 = tf.Variable(tf.zeros([filter_depth1]))\n",
    "    w2 = tf.Variable(tf.truncated_normal([filter_size, filter_size, filter_depth1, filter_depth2], stddev=0.1))\n",
    "    b2 = tf.Variable(tf.constant(1.0, shape=[filter_depth2]))\n",
    "    w3 = tf.Variable(tf.truncated_normal([(image_size // 5) * (image_size // 5) * filter_depth2, num_hidden1], stddev=0.1))\n",
    "    b3 = tf.Variable(tf.constant(1.0, shape = [num_hidden1]))\n",
    "    w4 = tf.Variable(tf.truncated_normal([num_hidden1, num_hidden2], stddev=0.1))\n",
    "    b4 = tf.Variable(tf.constant(1.0, shape = [num_hidden2]))\n",
    "    w5 = tf.Variable(tf.truncated_normal([num_hidden2, num_labels], stddev=0.1))\n",
    "    b5 = tf.Variable(tf.constant(1.0, shape = [num_labels])) \n",
    "    \n",
    "    def model(data):\n",
    "        layer1_conv = tf.nn.conv2d(data, w1, [1, 1, 1, 1], padding='SAME')\n",
    "        layer1_actv = tf.nn.relu(layer1_conv + b1)\n",
    "        layer1_pool = tf.nn.avg_pool(layer1_actv, [1, 2, 2, 1], [1, 2, 2, 1], padding='SAME')\n",
    "\n",
    "        layer2_conv = tf.nn.conv2d(layer1_pool, w2, [1, 1, 1, 1], padding='VALID')\n",
    "        layer2_actv = tf.nn.relu(layer2_conv + b2)\n",
    "        layer2_pool = tf.nn.avg_pool(layer2_actv, [1, 2, 2, 1], [1, 2, 2, 1], padding='SAME')\n",
    "\n",
    "        flat_layer = flatten_tf_array(layer2_pool)\n",
    "        \n",
    "        layer3_fccd = tf.matmul(flat_layer, w3) + b3\n",
    "        layer3_actv = tf.nn.relu(layer3_fccd)\n",
    "        layer3_actv = tf.nn.dropout(layer3_actv, tf_keep_prob)\n",
    "\n",
    "        layer4_fccd = tf.matmul(layer3_actv, w4) + b4\n",
    "        layer4_actv = tf.nn.relu(layer4_fccd)\n",
    "        layer4_actv = tf.nn.dropout(layer4_actv, tf_keep_prob)\n",
    "\n",
    "        logits = tf.matmul(layer4_actv, w5) + b5\n",
    "        return logits\n",
    "    \n",
    "    logits = model(tf_train_dataset)\n",
    "    loss = tf.reduce_mean(tf.nn.softmax_cross_entropy_with_logits(labels=tf_train_labels, logits=logits))\n",
    "    \n",
    "    # L2 regularization\n",
    "    if (beta > 0):\n",
    "        loss = loss + loss_l2(beta)\n",
    "    \n",
    "    # learning rate decay    \n",
    "    global_step = tf.Variable(0, trainable=False)\n",
    "    tf_learning_rate = tf.train.exponential_decay(\n",
    "        learning_rate, # Base learning rate.\n",
    "        global_step * batch_size, # Current index into the dataset.\n",
    "        len(train_dataset), # Decay step.\n",
    "        decay_rate, # Decay rate.\n",
    "        staircase=True)\n",
    "    \n",
    "    # optimizer = tf.train.GradientDescentOptimizer(learning_rate).minimize(loss)\n",
    "    # optimizer = tf.train.AdamOptimizer(1e-4).minimize(loss)\n",
    "    optimizer = tf.train.GradientDescentOptimizer(tf_learning_rate).minimize(loss, global_step=global_step)\n",
    "    \n",
    "    train_prediction = tf.nn.softmax(logits)\n",
    "    valid_prediction = tf.nn.softmax(model(tf_valid_dataset))\n",
    "    test_prediction = tf.nn.softmax(model(tf_test_dataset))"
   ]
  },
  {
   "cell_type": "code",
   "execution_count": 142,
   "metadata": {},
   "outputs": [
    {
     "name": "stdout",
     "output_type": "stream",
     "text": [
      "Minibatch loss at step 0: 2.950485\n",
      "Test accuracy: 10.0%\n",
      "Minibatch loss at step 500: 0.610008\n",
      "Test accuracy: 88.0%\n",
      "Minibatch loss at step 1000: 0.685238\n",
      "Test accuracy: 90.7%\n",
      "Minibatch loss at step 1500: 0.305892\n",
      "Test accuracy: 91.1%\n",
      "Minibatch loss at step 2000: 0.767277\n",
      "Test accuracy: 91.9%\n",
      "Minibatch loss at step 2500: 0.559173\n",
      "Test accuracy: 92.8%\n",
      "Minibatch loss at step 3000: 0.525108\n",
      "Test accuracy: 91.3%\n",
      "Minibatch loss at step 3500: 0.649506\n",
      "Test accuracy: 93.5%\n",
      "Minibatch loss at step 4000: 0.157120\n",
      "Test accuracy: 94.2%\n",
      "Minibatch loss at step 4500: 0.607267\n",
      "Test accuracy: 94.2%\n",
      "Minibatch loss at step 5000: 0.482571\n",
      "Test accuracy: 94.3%\n",
      "Minibatch loss at step 5500: 0.470644\n",
      "Test accuracy: 94.4%\n",
      "Minibatch loss at step 6000: 0.375525\n",
      "Test accuracy: 94.5%\n",
      "Minibatch loss at step 6500: 0.195301\n",
      "Test accuracy: 94.5%\n",
      "Minibatch loss at step 7000: 0.532472\n",
      "Test accuracy: 94.9%\n",
      "Minibatch loss at step 7500: 0.480573\n",
      "Test accuracy: 95.1%\n",
      "Minibatch loss at step 8000: 0.476419\n",
      "Test accuracy: 94.7%\n",
      "Minibatch loss at step 8500: 0.264931\n",
      "Test accuracy: 94.9%\n",
      "Minibatch loss at step 9000: 0.491103\n",
      "Test accuracy: 95.1%\n",
      "Minibatch loss at step 9500: 0.428398\n",
      "Test accuracy: 95.4%\n",
      "Minibatch loss at step 10000: 0.115809\n",
      "Test accuracy: 95.2%\n",
      "Minibatch loss at step 10500: 0.501111\n",
      "Test accuracy: 94.8%\n",
      "Minibatch loss at step 11000: 0.334286\n",
      "Test accuracy: 95.4%\n",
      "Minibatch loss at step 11500: 0.432689\n",
      "Test accuracy: 95.5%\n",
      "Minibatch loss at step 12000: 0.313759\n",
      "Test accuracy: 95.3%\n",
      "Minibatch loss at step 12500: 0.548966\n",
      "Test accuracy: 95.6%\n",
      "Minibatch loss at step 13000: 0.426561\n",
      "Test accuracy: 95.3%\n",
      "Minibatch loss at step 13500: 0.554586\n",
      "Test accuracy: 95.3%\n",
      "Minibatch loss at step 14000: 0.228916\n",
      "Test accuracy: 95.6%\n",
      "Minibatch loss at step 14500: 0.592544\n",
      "Test accuracy: 95.5%\n",
      "Minibatch loss at step 15000: 0.529335\n",
      "Test accuracy: 95.9%\n",
      "Minibatch loss at step 15500: 0.268351\n",
      "Test accuracy: 95.0%\n",
      "Minibatch loss at step 16000: 0.532070\n",
      "Test accuracy: 95.9%\n",
      "Minibatch loss at step 16500: 0.333544\n",
      "Test accuracy: 95.9%\n",
      "Minibatch loss at step 17000: 0.401026\n",
      "Test accuracy: 95.6%\n",
      "Minibatch loss at step 17500: 0.197061\n",
      "Test accuracy: 95.6%\n",
      "Minibatch loss at step 18000: 0.141785\n",
      "Test accuracy: 95.7%\n",
      "Minibatch loss at step 18500: 0.476839\n",
      "Test accuracy: 95.7%\n",
      "Minibatch loss at step 19000: 0.171000\n",
      "Test accuracy: 95.9%\n",
      "Minibatch loss at step 19500: 0.229181\n",
      "Test accuracy: 95.8%\n",
      "Minibatch loss at step 20000: 0.470217\n",
      "Test accuracy: 95.7%\n",
      "Minibatch loss at step 20500: 0.201173\n",
      "Test accuracy: 95.7%\n",
      "Minibatch loss at step 21000: 0.553983\n",
      "Test accuracy: 95.5%\n",
      "Minibatch loss at step 21500: 0.354887\n",
      "Test accuracy: 96.0%\n",
      "Minibatch loss at step 22000: 0.407910\n",
      "Test accuracy: 95.9%\n",
      "Minibatch loss at step 22500: 0.250723\n",
      "Test accuracy: 95.7%\n",
      "Minibatch loss at step 23000: 0.342145\n",
      "Test accuracy: 95.6%\n",
      "Minibatch loss at step 23500: 0.407784\n",
      "Test accuracy: 95.6%\n",
      "Minibatch loss at step 24000: 0.379010\n",
      "Test accuracy: 95.9%\n",
      "Minibatch loss at step 24500: 0.162742\n",
      "Test accuracy: 95.7%\n",
      "Minibatch loss at step 25000: 0.401585\n",
      "Test accuracy: 95.9%\n",
      "Minibatch loss at step 25500: 0.435023\n",
      "Test accuracy: 96.0%\n",
      "Minibatch loss at step 26000: 0.188324\n",
      "Test accuracy: 95.5%\n",
      "Minibatch loss at step 26500: 0.372587\n",
      "Test accuracy: 96.0%\n",
      "Minibatch loss at step 27000: 0.399566\n",
      "Test accuracy: 95.7%\n",
      "Minibatch loss at step 27500: 0.302412\n",
      "Test accuracy: 96.3%\n",
      "Minibatch loss at step 28000: 0.202505\n",
      "Test accuracy: 95.7%\n",
      "Minibatch loss at step 28500: 0.455215\n",
      "Test accuracy: 96.0%\n",
      "Minibatch loss at step 29000: 0.469199\n",
      "Test accuracy: 95.7%\n",
      "Minibatch loss at step 29500: 0.293228\n",
      "Test accuracy: 95.9%\n",
      "Minibatch loss at step 30000: 0.251824\n",
      "Test accuracy: 96.0%\n"
     ]
    }
   ],
   "source": [
    "num_steps = 30001\n",
    "\n",
    "with tf.Session(graph=graph) as session:\n",
    "    tf.global_variables_initializer().run()\n",
    "\n",
    "    for step in range(num_steps):\n",
    "        offset = (step * batch_size) % (train_labels.shape[0] - batch_size)\n",
    "        batch_data = train_dataset[offset:(offset + batch_size), :, :, :]\n",
    "        batch_labels = train_labels[offset:(offset + batch_size), :]\n",
    "\n",
    "        feed_dict = {\n",
    "            tf_train_dataset : batch_data, \n",
    "            tf_train_labels : batch_labels,\n",
    "            tf_keep_prob : keep_prob\n",
    "        }\n",
    "\n",
    "        _, l, predictions = session.run([optimizer, loss, train_prediction], feed_dict=feed_dict)\n",
    "\n",
    "        if (step % 500 == 0):\n",
    "            print('Minibatch loss at step %d: %f' % (step, l))\n",
    "            #print('Minibatch accuracy: %.1f%%' % accuracy(predictions, batch_labels))\n",
    "            #print(\"Validation accuracy: %.1f%%\" % accuracy(valid_prediction.eval({ tf_keep_prob : 1.0} ), valid_labels))\n",
    "            \n",
    "        if (step % 500 == 0):\n",
    "            print(\"Test accuracy: %.1f%%\" % accuracy(test_prediction.eval({ tf_keep_prob : 1.0 }), test_labels))"
   ]
  },
  {
   "cell_type": "code",
   "execution_count": null,
   "metadata": {
    "collapsed": true
   },
   "outputs": [],
   "source": []
  }
 ],
 "metadata": {
  "colab": {
   "default_view": {},
   "name": "4_convolutions.ipynb",
   "provenance": [],
   "version": "0.3.2",
   "views": {}
  },
  "kernelspec": {
   "display_name": "Python 3",
   "language": "python",
   "name": "python3"
  },
  "language_info": {
   "codemirror_mode": {
    "name": "ipython",
    "version": 3
   },
   "file_extension": ".py",
   "mimetype": "text/x-python",
   "name": "python",
   "nbconvert_exporter": "python",
   "pygments_lexer": "ipython3",
   "version": "3.5.4"
  }
 },
 "nbformat": 4,
 "nbformat_minor": 1
}
