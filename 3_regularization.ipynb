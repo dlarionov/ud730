{
 "cells": [
  {
   "cell_type": "markdown",
   "metadata": {
    "colab_type": "text",
    "id": "kR-4eNdK6lYS"
   },
   "source": [
    "Deep Learning\n",
    "=============\n",
    "\n",
    "Assignment 3\n",
    "------------\n",
    "\n",
    "Previously in `2_fullyconnected.ipynb`, you trained a logistic regression and a neural network model.\n",
    "\n",
    "The goal of this assignment is to explore regularization techniques."
   ]
  },
  {
   "cell_type": "code",
   "execution_count": 2,
   "metadata": {
    "cellView": "both",
    "colab": {
     "autoexec": {
      "startup": false,
      "wait_interval": 0
     }
    },
    "colab_type": "code",
    "collapsed": true,
    "id": "JLpLa8Jt7Vu4"
   },
   "outputs": [],
   "source": [
    "# These are all the modules we'll be using later. Make sure you can import them\n",
    "# before proceeding further.\n",
    "from __future__ import print_function\n",
    "import numpy as np\n",
    "import tensorflow as tf\n",
    "from six.moves import cPickle as pickle\n",
    "import matplotlib.pyplot as plt\n",
    "\n",
    "%matplotlib inline"
   ]
  },
  {
   "cell_type": "markdown",
   "metadata": {
    "colab_type": "text",
    "id": "1HrCK6e17WzV"
   },
   "source": [
    "First reload the data we generated in `1_notmnist.ipynb`."
   ]
  },
  {
   "cell_type": "code",
   "execution_count": 3,
   "metadata": {
    "cellView": "both",
    "colab": {
     "autoexec": {
      "startup": false,
      "wait_interval": 0
     },
     "output_extras": [
      {
       "item_id": 1
      }
     ]
    },
    "colab_type": "code",
    "executionInfo": {
     "elapsed": 11777,
     "status": "ok",
     "timestamp": 1449849322348,
     "user": {
      "color": "",
      "displayName": "",
      "isAnonymous": false,
      "isMe": true,
      "permissionId": "",
      "photoUrl": "",
      "sessionId": "0",
      "userId": ""
     },
     "user_tz": 480
    },
    "id": "y3-cj1bpmuxc",
    "outputId": "e03576f1-ebbe-4838-c388-f1777bcc9873"
   },
   "outputs": [
    {
     "name": "stdout",
     "output_type": "stream",
     "text": [
      "Training set (200000, 28, 28) (200000,)\n",
      "Validation set (10000, 28, 28) (10000,)\n",
      "Test set (10000, 28, 28) (10000,)\n"
     ]
    }
   ],
   "source": [
    "pickle_file = 'notMNIST.pickle'\n",
    "\n",
    "with open(pickle_file, 'rb') as f:\n",
    "    save = pickle.load(f)\n",
    "    train_dataset = save['train_dataset']\n",
    "    train_labels = save['train_labels']\n",
    "    valid_dataset = save['valid_dataset']\n",
    "    valid_labels = save['valid_labels']\n",
    "    test_dataset = save['test_dataset']\n",
    "    test_labels = save['test_labels']\n",
    "    del save  # hint to help gc free up memory\n",
    "    print('Training set', train_dataset.shape, train_labels.shape)\n",
    "    print('Validation set', valid_dataset.shape, valid_labels.shape)\n",
    "    print('Test set', test_dataset.shape, test_labels.shape)"
   ]
  },
  {
   "cell_type": "markdown",
   "metadata": {
    "colab_type": "text",
    "id": "L7aHrm6nGDMB"
   },
   "source": [
    "Reformat into a shape that's more adapted to the models we're going to train:\n",
    "- data as a flat matrix,\n",
    "- labels as float 1-hot encodings."
   ]
  },
  {
   "cell_type": "code",
   "execution_count": 4,
   "metadata": {
    "cellView": "both",
    "colab": {
     "autoexec": {
      "startup": false,
      "wait_interval": 0
     },
     "output_extras": [
      {
       "item_id": 1
      }
     ]
    },
    "colab_type": "code",
    "executionInfo": {
     "elapsed": 11728,
     "status": "ok",
     "timestamp": 1449849322356,
     "user": {
      "color": "",
      "displayName": "",
      "isAnonymous": false,
      "isMe": true,
      "permissionId": "",
      "photoUrl": "",
      "sessionId": "0",
      "userId": ""
     },
     "user_tz": 480
    },
    "id": "IRSyYiIIGIzS",
    "outputId": "3f8996ee-3574-4f44-c953-5c8a04636582"
   },
   "outputs": [
    {
     "name": "stdout",
     "output_type": "stream",
     "text": [
      "Training set (200000, 784) (200000, 10)\n",
      "Validation set (10000, 784) (10000, 10)\n",
      "Test set (10000, 784) (10000, 10)\n"
     ]
    }
   ],
   "source": [
    "image_size = 28\n",
    "num_labels = 10\n",
    "\n",
    "def reformat(dataset, labels):\n",
    "    dataset = dataset.reshape((-1, image_size * image_size)).astype(np.float32)\n",
    "    # Map 1 to [0.0, 1.0, 0.0 ...], 2 to [0.0, 0.0, 1.0 ...]\n",
    "    labels = (np.arange(num_labels) == labels[:,None]).astype(np.float32)\n",
    "    return dataset, labels\n",
    "train_dataset, train_labels = reformat(train_dataset, train_labels)\n",
    "valid_dataset, valid_labels = reformat(valid_dataset, valid_labels)\n",
    "test_dataset, test_labels = reformat(test_dataset, test_labels)\n",
    "print('Training set', train_dataset.shape, train_labels.shape)\n",
    "print('Validation set', valid_dataset.shape, valid_labels.shape)\n",
    "print('Test set', test_dataset.shape, test_labels.shape)"
   ]
  },
  {
   "cell_type": "code",
   "execution_count": 5,
   "metadata": {
    "cellView": "both",
    "colab": {
     "autoexec": {
      "startup": false,
      "wait_interval": 0
     }
    },
    "colab_type": "code",
    "collapsed": true,
    "id": "RajPLaL_ZW6w"
   },
   "outputs": [],
   "source": [
    "def accuracy(predictions, labels):\n",
    "    return (100.0 * np.sum(np.argmax(predictions, 1) == np.argmax(labels, 1)) / predictions.shape[0])"
   ]
  },
  {
   "cell_type": "markdown",
   "metadata": {
    "colab_type": "text",
    "id": "sgLbUAQ1CW-1"
   },
   "source": [
    "---\n",
    "Problem 1\n",
    "---------\n",
    "\n",
    "Introduce and tune L2 regularization for both logistic and neural network models. Remember that L2 amounts to adding a penalty on the norm of the weights to the loss. In TensorFlow, you can compute the L2 loss for a tensor `t` using `nn.l2_loss(t)`. The right amount of regularization should improve your validation / test accuracy.\n",
    "\n",
    "---"
   ]
  },
  {
   "cell_type": "code",
   "execution_count": 6,
   "metadata": {
    "collapsed": true
   },
   "outputs": [],
   "source": [
    "def initialize_parameters(layers_dims):\n",
    "    parameters = {}\n",
    "    \n",
    "    for l in range(1, len(layers_dims)):\n",
    "        parameters['W' + str(l)] = tf.Variable(tf.truncated_normal([layers_dims[l-1], layers_dims[l]]))\n",
    "        parameters['b' + str(l)] = tf.Variable(tf.zeros([layers_dims[l]]))\n",
    "        \n",
    "    return parameters\n",
    "\n",
    "def forward_propagation(X, parameters):\n",
    "    A = X\n",
    "    L = len(parameters) // 2 + 1 # number of layers in the neural network\n",
    "    \n",
    "    # linear[1] -> relu -> liner[2] -> ... -> relu -> linear[L-1]\n",
    "    for l in range(1, L):\n",
    "        W = parameters['W' + str(l)]\n",
    "        b = parameters['b' + str(l)]\n",
    "        Z = tf.add(tf.matmul(A, W), b)\n",
    "        if (l < L - 1):\n",
    "            A = tf.nn.relu(Z)\n",
    "               \n",
    "    return Z\n",
    "\n",
    "def loss_l2(lambd):\n",
    "    variables = tf.trainable_variables()\n",
    "    lossl2 = tf.add_n([tf.nn.l2_loss(i) for i in variables]) * lambd\n",
    "    return lossl2"
   ]
  },
  {
   "cell_type": "code",
   "execution_count": 7,
   "metadata": {},
   "outputs": [],
   "source": [
    "def batch_model(layers, num_iterations = 3001, batch_size = 128, learning_rate= 0.5, lambd = 0.002, trace = True):\n",
    "    costs = []\n",
    "    \n",
    "    graph = tf.Graph()\n",
    "    with graph.as_default():\n",
    "\n",
    "        tf_train_dataset = tf.placeholder(tf.float32, shape=(batch_size, image_size**2))\n",
    "        tf_train_labels = tf.placeholder(tf.float32, shape=(batch_size, num_labels))\n",
    "        tf_valid_dataset = tf.constant(valid_dataset)\n",
    "        tf_test_dataset = tf.constant(test_dataset) \n",
    "\n",
    "        if (not layers):\n",
    "            layers = [ image_size**2, num_labels ]\n",
    "\n",
    "        parameters = initialize_parameters(layers)\n",
    "\n",
    "        logits = forward_propagation(tf_train_dataset, parameters)\n",
    "\n",
    "        loss = tf.reduce_mean(tf.nn.softmax_cross_entropy_with_logits(logits=logits, labels=tf_train_labels))\n",
    "        \n",
    "        loss += loss_l2(lambd)\n",
    "\n",
    "        optimizer = tf.train.GradientDescentOptimizer(learning_rate).minimize(loss)\n",
    "\n",
    "        train_prediction = tf.nn.softmax(forward_propagation(tf_train_dataset, parameters))\n",
    "        valid_prediction = tf.nn.softmax(forward_propagation(tf_valid_dataset, parameters))\n",
    "        test_prediction = tf.nn.softmax(forward_propagation(tf_test_dataset, parameters))\n",
    "    \n",
    "    with tf.Session(graph=graph) as session:\n",
    "    \n",
    "        tf.global_variables_initializer().run()\n",
    "\n",
    "        for step in range(num_iterations):\n",
    "            offset = (step * batch_size) % (train_labels.shape[0] - batch_size)\n",
    "            batch_data = train_dataset[offset:(offset + batch_size), :]\n",
    "            batch_labels = train_labels[offset:(offset + batch_size), :]\n",
    "            feed_dict = {\n",
    "                tf_train_dataset : batch_data, \n",
    "                tf_train_labels : batch_labels\n",
    "            }\n",
    "            _, step_cost, predictions = session.run([optimizer, loss, train_prediction], feed_dict=feed_dict)\n",
    "            if (trace and step % 500 == 0):\n",
    "                print(\"Minibatch loss at step %d: %f\" % (step, step_cost))\n",
    "                print(\"Minibatch accuracy: %.1f%%\" % accuracy(predictions, batch_labels))\n",
    "                print(\"Validation accuracy: %.1f%%\" % accuracy(valid_prediction.eval(), valid_labels))\n",
    "                print(\"Test accuracy: %.1f%%\" % accuracy(test_prediction.eval(), test_labels))\n",
    "            if (step % 5 == 0):\n",
    "                costs.append(step_cost)\n",
    "\n",
    "        accuracy_batch = accuracy(predictions, batch_labels)\n",
    "        accuracy_dev = accuracy(valid_prediction.eval(), valid_labels)\n",
    "        accuracy_test = accuracy(test_prediction.eval(), test_labels)\n",
    "\n",
    "    return costs, accuracy_batch, accuracy_dev, accuracy_test"
   ]
  },
  {
   "cell_type": "code",
   "execution_count": 8,
   "metadata": {},
   "outputs": [
    {
     "name": "stdout",
     "output_type": "stream",
     "text": [
      "Minibatch loss at step 0: 25.373745\n",
      "Minibatch accuracy: 7.0%\n",
      "Validation accuracy: 10.4%\n",
      "Test accuracy: 11.0%\n",
      "Minibatch loss at step 500: 2.926105\n",
      "Minibatch accuracy: 79.7%\n",
      "Validation accuracy: 76.7%\n",
      "Test accuracy: 84.8%\n",
      "Minibatch loss at step 1000: 1.267141\n",
      "Minibatch accuracy: 80.5%\n",
      "Validation accuracy: 79.8%\n",
      "Test accuracy: 87.3%\n",
      "Minibatch loss at step 1500: 0.706169\n",
      "Minibatch accuracy: 88.3%\n",
      "Validation accuracy: 81.3%\n",
      "Test accuracy: 88.0%\n",
      "Minibatch loss at step 2000: 0.690624\n",
      "Minibatch accuracy: 82.0%\n",
      "Validation accuracy: 80.9%\n",
      "Test accuracy: 87.8%\n",
      "Minibatch loss at step 2500: 0.878292\n",
      "Minibatch accuracy: 78.9%\n",
      "Validation accuracy: 78.6%\n",
      "Test accuracy: 85.1%\n",
      "Minibatch loss at step 3000: 0.882939\n",
      "Minibatch accuracy: 78.9%\n",
      "Validation accuracy: 80.5%\n",
      "Test accuracy: 87.6%\n"
     ]
    }
   ],
   "source": [
    "layers = [ image_size**2, num_labels ]\n",
    "costs, accuracy_batch, accuracy_dev, accuracy_test = batch_model(layers)"
   ]
  },
  {
   "cell_type": "code",
   "execution_count": 9,
   "metadata": {},
   "outputs": [
    {
     "name": "stdout",
     "output_type": "stream",
     "text": [
      "Minibatch loss at step 0: 927.719910\n",
      "Minibatch accuracy: 13.3%\n",
      "Validation accuracy: 23.1%\n",
      "Test accuracy: 25.1%\n",
      "Minibatch loss at step 500: 237.244598\n",
      "Minibatch accuracy: 82.0%\n",
      "Validation accuracy: 78.6%\n",
      "Test accuracy: 84.8%\n",
      "Minibatch loss at step 1000: 83.960312\n",
      "Minibatch accuracy: 83.6%\n",
      "Validation accuracy: 82.7%\n",
      "Test accuracy: 89.3%\n",
      "Minibatch loss at step 1500: 31.002314\n",
      "Minibatch accuracy: 84.4%\n",
      "Validation accuracy: 84.4%\n",
      "Test accuracy: 90.8%\n",
      "Minibatch loss at step 2000: 11.491675\n",
      "Minibatch accuracy: 90.6%\n",
      "Validation accuracy: 86.6%\n",
      "Test accuracy: 92.9%\n",
      "Minibatch loss at step 2500: 4.712802\n",
      "Minibatch accuracy: 85.9%\n",
      "Validation accuracy: 86.4%\n",
      "Test accuracy: 93.0%\n",
      "Minibatch loss at step 3000: 2.110470\n",
      "Minibatch accuracy: 84.4%\n",
      "Validation accuracy: 86.5%\n",
      "Test accuracy: 93.0%\n"
     ]
    }
   ],
   "source": [
    "layers = [ image_size**2, 1024, num_labels ]\n",
    "costs, accuracy_batch, accuracy_dev, accuracy_test = batch_model(layers)"
   ]
  },
  {
   "cell_type": "code",
   "execution_count": 10,
   "metadata": {},
   "outputs": [
    {
     "data": {
      "image/png": "[encoded data removed]",
      "text/plain": [
       "<matplotlib.figure.Figure at 0xdb43a58>"
      ]
     },
     "metadata": {},
     "output_type": "display_data"
    }
   ],
   "source": [
    "plt.plot(np.squeeze(costs))\n",
    "plt.ylabel('cost')\n",
    "plt.xlabel('iterations (per tens)')\n",
    "plt.show()"
   ]
  },
  {
   "cell_type": "markdown",
   "metadata": {
    "colab_type": "text",
    "id": "na8xX2yHZzNF"
   },
   "source": [
    "---\n",
    "Problem 2\n",
    "---------\n",
    "Let's demonstrate an extreme case of overfitting. Restrict your training data to just a few batches. What happens?\n",
    "\n",
    "---"
   ]
  },
  {
   "cell_type": "code",
   "execution_count": 11,
   "metadata": {},
   "outputs": [],
   "source": [
    "train_subset = 1024\n",
    "train_dataset_temp = train_dataset\n",
    "train_dataset = train_dataset[:train_subset, :]\n",
    "train_labels_temp = train_labels\n",
    "train_labels = train_labels[:train_subset, :]"
   ]
  },
  {
   "cell_type": "code",
   "execution_count": 12,
   "metadata": {},
   "outputs": [
    {
     "name": "stdout",
     "output_type": "stream",
     "text": [
      "Minibatch loss at step 0: 1006.047302\n",
      "Minibatch accuracy: 6.2%\n",
      "Validation accuracy: 16.2%\n",
      "Test accuracy: 17.2%\n",
      "Minibatch loss at step 500: 230.716583\n",
      "Minibatch accuracy: 100.0%\n",
      "Validation accuracy: 77.2%\n",
      "Test accuracy: 84.5%\n",
      "Minibatch loss at step 1000: 84.885246\n",
      "Minibatch accuracy: 99.2%\n",
      "Validation accuracy: 75.8%\n",
      "Test accuracy: 82.5%\n",
      "Minibatch loss at step 1500: 31.180424\n",
      "Minibatch accuracy: 100.0%\n",
      "Validation accuracy: 78.0%\n",
      "Test accuracy: 85.2%\n",
      "Minibatch loss at step 2000: 11.478449\n",
      "Minibatch accuracy: 100.0%\n",
      "Validation accuracy: 79.4%\n",
      "Test accuracy: 86.7%\n",
      "Minibatch loss at step 2500: 4.284565\n",
      "Minibatch accuracy: 99.2%\n",
      "Validation accuracy: 80.3%\n",
      "Test accuracy: 87.5%\n",
      "Minibatch loss at step 3000: 1.631441\n",
      "Minibatch accuracy: 100.0%\n",
      "Validation accuracy: 80.7%\n",
      "Test accuracy: 87.9%\n"
     ]
    }
   ],
   "source": [
    "layers = [ image_size**2, 1024, num_labels ]\n",
    "costs, accuracy_batch, accuracy_dev, accuracy_test = batch_model(layers)"
   ]
  },
  {
   "cell_type": "code",
   "execution_count": 13,
   "metadata": {
    "collapsed": true
   },
   "outputs": [],
   "source": [
    "train_dataset = train_dataset_temp\n",
    "del train_dataset_temp\n",
    "train_labels = train_labels_temp\n",
    "del train_labels_temp"
   ]
  },
  {
   "cell_type": "code",
   "execution_count": 14,
   "metadata": {},
   "outputs": [
    {
     "data": {
      "image/png": "[encoded data removed]",
      "text/plain": [
       "<matplotlib.figure.Figure at 0xd189cf8>"
      ]
     },
     "metadata": {},
     "output_type": "display_data"
    }
   ],
   "source": [
    "plt.plot(np.squeeze(costs))\n",
    "plt.ylabel('cost')\n",
    "plt.xlabel('iterations (per tens)')\n",
    "plt.show()"
   ]
  },
  {
   "cell_type": "markdown",
   "metadata": {
    "colab_type": "text",
    "id": "ww3SCBUdlkRc"
   },
   "source": [
    "---\n",
    "Problem 3\n",
    "---------\n",
    "Introduce Dropout on the hidden layer of the neural network. Remember: Dropout should only be introduced during training, not evaluation, otherwise your evaluation results would be stochastic as well. TensorFlow provides `nn.dropout()` for that, but you have to make sure it's only inserted during training.\n",
    "\n",
    "What happens to our extreme overfitting case?\n",
    "\n",
    "---"
   ]
  },
  {
   "cell_type": "markdown",
   "metadata": {
    "colab_type": "text",
    "id": "-b1hTz3VWZjw"
   },
   "source": [
    "---\n",
    "Problem 4\n",
    "---------\n",
    "\n",
    "Try to get the best performance you can using a multi-layer model! The best reported test accuracy using a deep network is [97.1%](http://yaroslavvb.blogspot.com/2011/09/notmnist-dataset.html?showComment=1391023266211#c8758720086795711595).\n",
    "\n",
    "One avenue you can explore is to add multiple layers.\n",
    "\n",
    "Another one is to use learning rate decay:\n",
    "\n",
    "    global_step = tf.Variable(0)  # count the number of steps taken.\n",
    "    learning_rate = tf.train.exponential_decay(0.5, global_step, ...)\n",
    "    optimizer = tf.train.GradientDescentOptimizer(learning_rate).minimize(loss, global_step=global_step)\n",
    " \n",
    " ---\n"
   ]
  }
 ],
 "metadata": {
  "colab": {
   "default_view": {},
   "name": "3_regularization.ipynb",
   "provenance": [],
   "version": "0.3.2",
   "views": {}
  },
  "kernelspec": {
   "display_name": "Python 3",
   "language": "python",
   "name": "python3"
  },
  "language_info": {
   "codemirror_mode": {
    "name": "ipython",
    "version": 3
   },
   "file_extension": ".py",
   "mimetype": "text/x-python",
   "name": "python",
   "nbconvert_exporter": "python",
   "pygments_lexer": "ipython3",
   "version": "3.5.4"
  }
 },
 "nbformat": 4,
 "nbformat_minor": 1
}
