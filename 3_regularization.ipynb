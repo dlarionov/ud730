{
 "cells": [
  {
   "cell_type": "markdown",
   "metadata": {
    "colab_type": "text",
    "id": "kR-4eNdK6lYS"
   },
   "source": [
    "Deep Learning\n",
    "=============\n",
    "\n",
    "Assignment 3\n",
    "------------\n",
    "\n",
    "Previously in `2_fullyconnected.ipynb`, you trained a logistic regression and a neural network model.\n",
    "\n",
    "The goal of this assignment is to explore regularization techniques."
   ]
  },
  {
   "cell_type": "code",
   "execution_count": 1,
   "metadata": {
    "cellView": "both",
    "colab": {
     "autoexec": {
      "startup": false,
      "wait_interval": 0
     }
    },
    "colab_type": "code",
    "collapsed": true,
    "id": "JLpLa8Jt7Vu4"
   },
   "outputs": [],
   "source": [
    "# These are all the modules we'll be using later. Make sure you can import them\n",
    "# before proceeding further.\n",
    "from __future__ import print_function\n",
    "import numpy as np\n",
    "import tensorflow as tf\n",
    "from six.moves import cPickle as pickle\n",
    "import matplotlib.pyplot as plt\n",
    "\n",
    "%matplotlib inline"
   ]
  },
  {
   "cell_type": "markdown",
   "metadata": {
    "colab_type": "text",
    "id": "1HrCK6e17WzV"
   },
   "source": [
    "First reload the data we generated in `1_notmnist.ipynb`."
   ]
  },
  {
   "cell_type": "code",
   "execution_count": 2,
   "metadata": {
    "cellView": "both",
    "colab": {
     "autoexec": {
      "startup": false,
      "wait_interval": 0
     },
     "output_extras": [
      {
       "item_id": 1
      }
     ]
    },
    "colab_type": "code",
    "executionInfo": {
     "elapsed": 11777,
     "status": "ok",
     "timestamp": 1449849322348,
     "user": {
      "color": "",
      "displayName": "",
      "isAnonymous": false,
      "isMe": true,
      "permissionId": "",
      "photoUrl": "",
      "sessionId": "0",
      "userId": ""
     },
     "user_tz": 480
    },
    "id": "y3-cj1bpmuxc",
    "outputId": "e03576f1-ebbe-4838-c388-f1777bcc9873"
   },
   "outputs": [
    {
     "name": "stdout",
     "output_type": "stream",
     "text": [
      "Training set (200000, 28, 28) (200000,)\n",
      "Validation set (10000, 28, 28) (10000,)\n",
      "Test set (10000, 28, 28) (10000,)\n"
     ]
    }
   ],
   "source": [
    "pickle_file = 'notMNIST.pickle'\n",
    "\n",
    "with open(pickle_file, 'rb') as f:\n",
    "    save = pickle.load(f)\n",
    "    train_dataset = save['train_dataset']\n",
    "    train_labels = save['train_labels']\n",
    "    valid_dataset = save['valid_dataset']\n",
    "    valid_labels = save['valid_labels']\n",
    "    test_dataset = save['test_dataset']\n",
    "    test_labels = save['test_labels']\n",
    "    del save  # hint to help gc free up memory\n",
    "    print('Training set', train_dataset.shape, train_labels.shape)\n",
    "    print('Validation set', valid_dataset.shape, valid_labels.shape)\n",
    "    print('Test set', test_dataset.shape, test_labels.shape)"
   ]
  },
  {
   "cell_type": "markdown",
   "metadata": {
    "colab_type": "text",
    "id": "L7aHrm6nGDMB"
   },
   "source": [
    "Reformat into a shape that's more adapted to the models we're going to train:\n",
    "- data as a flat matrix,\n",
    "- labels as float 1-hot encodings."
   ]
  },
  {
   "cell_type": "code",
   "execution_count": 3,
   "metadata": {
    "cellView": "both",
    "colab": {
     "autoexec": {
      "startup": false,
      "wait_interval": 0
     },
     "output_extras": [
      {
       "item_id": 1
      }
     ]
    },
    "colab_type": "code",
    "executionInfo": {
     "elapsed": 11728,
     "status": "ok",
     "timestamp": 1449849322356,
     "user": {
      "color": "",
      "displayName": "",
      "isAnonymous": false,
      "isMe": true,
      "permissionId": "",
      "photoUrl": "",
      "sessionId": "0",
      "userId": ""
     },
     "user_tz": 480
    },
    "id": "IRSyYiIIGIzS",
    "outputId": "3f8996ee-3574-4f44-c953-5c8a04636582"
   },
   "outputs": [
    {
     "name": "stdout",
     "output_type": "stream",
     "text": [
      "Training set (200000, 784) (200000, 10)\n",
      "Validation set (10000, 784) (10000, 10)\n",
      "Test set (10000, 784) (10000, 10)\n"
     ]
    }
   ],
   "source": [
    "image_size = 28\n",
    "num_labels = 10\n",
    "\n",
    "def reformat(dataset, labels):\n",
    "    dataset = dataset.reshape((-1, image_size * image_size)).astype(np.float32)\n",
    "    # Map 1 to [0.0, 1.0, 0.0 ...], 2 to [0.0, 0.0, 1.0 ...]\n",
    "    labels = (np.arange(num_labels) == labels[:,None]).astype(np.float32)\n",
    "    return dataset, labels\n",
    "train_dataset, train_labels = reformat(train_dataset, train_labels)\n",
    "valid_dataset, valid_labels = reformat(valid_dataset, valid_labels)\n",
    "test_dataset, test_labels = reformat(test_dataset, test_labels)\n",
    "print('Training set', train_dataset.shape, train_labels.shape)\n",
    "print('Validation set', valid_dataset.shape, valid_labels.shape)\n",
    "print('Test set', test_dataset.shape, test_labels.shape)"
   ]
  },
  {
   "cell_type": "code",
   "execution_count": 4,
   "metadata": {
    "cellView": "both",
    "colab": {
     "autoexec": {
      "startup": false,
      "wait_interval": 0
     }
    },
    "colab_type": "code",
    "collapsed": true,
    "id": "RajPLaL_ZW6w"
   },
   "outputs": [],
   "source": [
    "def accuracy(predictions, labels):\n",
    "    return (100.0 * np.sum(np.argmax(predictions, 1) == np.argmax(labels, 1)) / predictions.shape[0])"
   ]
  },
  {
   "cell_type": "markdown",
   "metadata": {
    "colab_type": "text",
    "id": "sgLbUAQ1CW-1"
   },
   "source": [
    "---\n",
    "Problem 1\n",
    "---------\n",
    "\n",
    "Introduce and tune L2 regularization for both logistic and neural network models. Remember that L2 amounts to adding a penalty on the norm of the weights to the loss. In TensorFlow, you can compute the L2 loss for a tensor `t` using `nn.l2_loss(t)`. The right amount of regularization should improve your validation / test accuracy.\n",
    "\n",
    "---"
   ]
  },
  {
   "cell_type": "code",
   "execution_count": 5,
   "metadata": {
    "collapsed": true
   },
   "outputs": [],
   "source": [
    "def show(costs):\n",
    "    plt.plot(np.squeeze(costs))\n",
    "    plt.ylabel('cost')\n",
    "    plt.xlabel('iterations (per tens)')\n",
    "    plt.show()"
   ]
  },
  {
   "cell_type": "code",
   "execution_count": 18,
   "metadata": {
    "collapsed": true
   },
   "outputs": [],
   "source": [
    "def initialize_parameters(layers_dims):\n",
    "    parameters = {}    \n",
    "    for l in range(1, len(layers_dims)):\n",
    "        parameters['W' + str(l)] = tf.Variable(tf.truncated_normal([layers_dims[l-1], layers_dims[l]]))\n",
    "        parameters['b' + str(l)] = tf.Variable(tf.zeros([layers_dims[l]]))\n",
    "    return parameters"
   ]
  },
  {
   "cell_type": "code",
   "execution_count": 19,
   "metadata": {
    "collapsed": true
   },
   "outputs": [],
   "source": [
    "def loss_l2(beta):\n",
    "    variables = tf.trainable_variables()\n",
    "    lossl2 = tf.add_n([tf.nn.l2_loss(i) for i in variables]) * beta\n",
    "    return lossl2"
   ]
  },
  {
   "cell_type": "code",
   "execution_count": 36,
   "metadata": {
    "collapsed": true
   },
   "outputs": [],
   "source": [
    "def model(layers = None, num_iterations = 3001, batch_size = 128, learning_rate= 0.5, \n",
    "        beta = 0.0, keep_prob = 1.0, decay_rate = 1.0, trace = True):\n",
    "    costs = []\n",
    "    \n",
    "    graph = tf.Graph()\n",
    "    with graph.as_default():\n",
    "\n",
    "        tf_train_dataset = tf.placeholder(tf.float32, shape=(batch_size, image_size**2))\n",
    "        tf_train_labels = tf.placeholder(tf.float32, shape=(batch_size, num_labels))\n",
    "        tf_keep_prob = tf.placeholder(tf.float32)\n",
    "        \n",
    "        tf_valid_dataset = tf.constant(valid_dataset)\n",
    "        tf_test_dataset = tf.constant(test_dataset)\n",
    "        \n",
    "        # learning rate decay\n",
    "        global_step = tf.Variable(0, trainable=False)\n",
    "        tf_learning_rate = tf.train.exponential_decay(\n",
    "            learning_rate, # Base learning rate.\n",
    "            global_step * batch_size, # Current index into the dataset.\n",
    "            len(train_dataset), # Decay step.\n",
    "            decay_rate, # Decay rate.\n",
    "            staircase=True)\n",
    "\n",
    "        if (not layers):\n",
    "            layers = [ image_size**2, num_labels ]\n",
    "\n",
    "        parameters = initialize_parameters(layers)\n",
    "        \n",
    "        def forward_propagation(X):\n",
    "            A = X\n",
    "            L = len(parameters) // 2 + 1 # number of layers in the neural network\n",
    "            # linear[1] -> relu -> liner[2] -> relu -> ... -> linear[L-1]\n",
    "            for l in range(1, L):\n",
    "                W = parameters['W' + str(l)]\n",
    "                b = parameters['b' + str(l)]\n",
    "                Z = tf.add(tf.matmul(A, W), b)\n",
    "                # dont apply activation on output layer\n",
    "                if (l < L - 1):\n",
    "                    R = tf.nn.relu(Z)\n",
    "                    A = tf.nn.dropout(R, tf_keep_prob)\n",
    "            return Z\n",
    "        \n",
    "        logits = forward_propagation(tf_train_dataset)\n",
    "        loss = tf.reduce_mean(tf.nn.softmax_cross_entropy_with_logits(logits=logits, labels=tf_train_labels))\n",
    "        \n",
    "        # L2 regularization\n",
    "        if (beta > 0):\n",
    "            loss = loss + loss_l2(beta)\n",
    "\n",
    "        # optimizer = tf.train.GradientDescentOptimizer(learning_rate).minimize(loss)\n",
    "        optimizer = tf.train.GradientDescentOptimizer(tf_learning_rate).minimize(loss, global_step=global_step)\n",
    "        # optimizer = tf.train.AdamOptimizer(learning_rate).minimize(loss)        \n",
    "       \n",
    "        train_prediction = tf.nn.softmax(forward_propagation(tf_train_dataset))\n",
    "        valid_prediction = tf.nn.softmax(forward_propagation(tf_valid_dataset))\n",
    "        test_prediction = tf.nn.softmax(forward_propagation(tf_test_dataset))\n",
    "    \n",
    "    with tf.Session(graph=graph) as session:\n",
    "    \n",
    "        tf.global_variables_initializer().run()\n",
    "\n",
    "        for step in range(num_iterations):\n",
    "            offset = (step * batch_size) % (train_labels.shape[0] - batch_size)\n",
    "            batch_data = train_dataset[offset:(offset + batch_size), :]\n",
    "            batch_labels = train_labels[offset:(offset + batch_size), :]\n",
    "            feed_dict = {\n",
    "                tf_train_dataset : batch_data, \n",
    "                tf_train_labels : batch_labels,\n",
    "                tf_keep_prob : keep_prob\n",
    "            }\n",
    "            _, step_cost, predictions = session.run([optimizer, loss, train_prediction], feed_dict=feed_dict)\n",
    "            if (trace and step % 500 == 0):\n",
    "                print(\"Minibatch loss at step %d: %f\" % (step, step_cost))\n",
    "                print(\"Minibatch accuracy: %.1f%%\" % accuracy(predictions, batch_labels))\n",
    "                \n",
    "            if (step % 5 == 0):\n",
    "                costs.append(step_cost)\n",
    "    \n",
    "        print(\"Validation accuracy: %.1f%%\" % accuracy(valid_prediction.eval({ tf_keep_prob : 1.0}), valid_labels))\n",
    "        print(\"Test accuracy: %.1f%%\" % accuracy(test_prediction.eval({ tf_keep_prob : 1.0}), test_labels))\n",
    "    \n",
    "    return costs"
   ]
  },
  {
   "cell_type": "code",
   "execution_count": 33,
   "metadata": {
    "scrolled": true
   },
   "outputs": [
    {
     "name": "stdout",
     "output_type": "stream",
     "text": [
      "Minibatch loss at step 0: 16.460997\n",
      "Minibatch accuracy: 10.2%\n",
      "Minibatch loss at step 500: 2.929147\n",
      "Minibatch accuracy: 65.6%\n",
      "Minibatch loss at step 1000: 1.326608\n",
      "Minibatch accuracy: 76.6%\n",
      "Minibatch loss at step 1500: 1.342646\n",
      "Minibatch accuracy: 73.4%\n",
      "Minibatch loss at step 2000: 1.046066\n",
      "Minibatch accuracy: 79.7%\n",
      "Minibatch loss at step 2500: 1.227518\n",
      "Minibatch accuracy: 73.4%\n",
      "Minibatch loss at step 3000: 0.778194\n",
      "Minibatch accuracy: 79.7%\n",
      "Validation accuracy: 79.3%\n",
      "Test accuracy: 86.3%\n"
     ]
    },
    {
     "data": {
      "image/png": "[encoded data removed]",
      "text/plain": [
       "<matplotlib.figure.Figure at 0xdc6fc88>"
      ]
     },
     "metadata": {},
     "output_type": "display_data"
    }
   ],
   "source": [
    "costs = model()\n",
    "show(costs)"
   ]
  },
  {
   "cell_type": "code",
   "execution_count": 22,
   "metadata": {},
   "outputs": [
    {
     "name": "stdout",
     "output_type": "stream",
     "text": [
      "Minibatch loss at step 0: 22.592941\n",
      "Minibatch accuracy: 5.5%\n",
      "Validation accuracy: 11.1%\n",
      "Test accuracy: 10.8%\n",
      "Minibatch loss at step 500: 3.537610\n",
      "Minibatch accuracy: 68.8%\n",
      "Validation accuracy: 76.3%\n",
      "Test accuracy: 83.5%\n",
      "Minibatch loss at step 1000: 1.855127\n",
      "Minibatch accuracy: 75.8%\n",
      "Validation accuracy: 79.0%\n",
      "Test accuracy: 85.7%\n",
      "Minibatch loss at step 1500: 1.356031\n",
      "Minibatch accuracy: 78.9%\n",
      "Validation accuracy: 80.6%\n",
      "Test accuracy: 87.4%\n",
      "Minibatch loss at step 2000: 1.037836\n",
      "Minibatch accuracy: 80.5%\n",
      "Validation accuracy: 80.7%\n",
      "Test accuracy: 87.8%\n",
      "Minibatch loss at step 2500: 1.006117\n",
      "Minibatch accuracy: 74.2%\n",
      "Validation accuracy: 82.5%\n",
      "Test accuracy: 88.8%\n",
      "Minibatch loss at step 3000: 0.683589\n",
      "Minibatch accuracy: 82.8%\n",
      "Validation accuracy: 82.4%\n",
      "Test accuracy: 89.2%\n"
     ]
    },
    {
     "data": {
      "image/png": "[encoded data removed]",
      "text/plain": [
       "<matplotlib.figure.Figure at 0x10177a90>"
      ]
     },
     "metadata": {},
     "output_type": "display_data"
    }
   ],
   "source": [
    "costs = model(beta=0.001)\n",
    "show(costs)"
   ]
  },
  {
   "cell_type": "code",
   "execution_count": 9,
   "metadata": {},
   "outputs": [
    {
     "name": "stdout",
     "output_type": "stream",
     "text": [
      "Minibatch loss at step 0: 360.587524\n",
      "Minibatch accuracy: 10.2%\n",
      "Validation accuracy: 28.5%\n",
      "Test accuracy: 31.2%\n",
      "Minibatch loss at step 500: 18.658340\n",
      "Minibatch accuracy: 70.3%\n",
      "Validation accuracy: 80.3%\n",
      "Test accuracy: 87.5%\n",
      "Minibatch loss at step 1000: 10.476759\n",
      "Minibatch accuracy: 75.8%\n",
      "Validation accuracy: 80.3%\n",
      "Test accuracy: 86.9%\n",
      "Minibatch loss at step 1500: 12.123688\n",
      "Minibatch accuracy: 77.3%\n",
      "Validation accuracy: 80.9%\n",
      "Test accuracy: 88.6%\n",
      "Minibatch loss at step 2000: 6.362317\n",
      "Minibatch accuracy: 85.2%\n",
      "Validation accuracy: 81.4%\n",
      "Test accuracy: 87.6%\n",
      "Minibatch loss at step 2500: 9.579241\n",
      "Minibatch accuracy: 80.5%\n",
      "Validation accuracy: 80.1%\n",
      "Test accuracy: 86.2%\n",
      "Minibatch loss at step 3000: 1.671460\n",
      "Minibatch accuracy: 87.5%\n",
      "Validation accuracy: 83.4%\n",
      "Test accuracy: 89.9%\n"
     ]
    },
    {
     "data": {
      "image/png": "[encoded data removed]",
      "text/plain": [
       "<matplotlib.figure.Figure at 0x1012b7b8>"
      ]
     },
     "metadata": {},
     "output_type": "display_data"
    }
   ],
   "source": [
    "layers = [ image_size**2, 1024, num_labels ]\n",
    "costs = model(layers)\n",
    "show(costs)"
   ]
  },
  {
   "cell_type": "code",
   "execution_count": 10,
   "metadata": {},
   "outputs": [
    {
     "name": "stdout",
     "output_type": "stream",
     "text": [
      "Minibatch loss at step 0: 900.605408\n",
      "Minibatch accuracy: 14.1%\n",
      "Validation accuracy: 36.2%\n",
      "Test accuracy: 39.5%\n",
      "Minibatch loss at step 500: 231.816116\n",
      "Minibatch accuracy: 75.8%\n",
      "Validation accuracy: 81.3%\n",
      "Test accuracy: 88.2%\n",
      "Minibatch loss at step 1000: 100.536438\n",
      "Minibatch accuracy: 80.5%\n",
      "Validation accuracy: 82.4%\n",
      "Test accuracy: 88.9%\n",
      "Minibatch loss at step 1500: 45.270012\n",
      "Minibatch accuracy: 75.8%\n",
      "Validation accuracy: 84.8%\n",
      "Test accuracy: 91.0%\n",
      "Minibatch loss at step 2000: 20.244631\n",
      "Minibatch accuracy: 89.1%\n",
      "Validation accuracy: 86.7%\n",
      "Test accuracy: 92.7%\n",
      "Minibatch loss at step 2500: 9.589923\n",
      "Minibatch accuracy: 82.0%\n",
      "Validation accuracy: 87.0%\n",
      "Test accuracy: 92.8%\n",
      "Minibatch loss at step 3000: 4.405211\n",
      "Minibatch accuracy: 91.4%\n",
      "Validation accuracy: 87.8%\n",
      "Test accuracy: 93.4%\n"
     ]
    },
    {
     "data": {
      "image/png": "[encoded data removed]",
      "text/plain": [
       "<matplotlib.figure.Figure at 0xfad6cc0>"
      ]
     },
     "metadata": {},
     "output_type": "display_data"
    }
   ],
   "source": [
    "layers = [ image_size**2, 1024, num_labels ]\n",
    "costs = model(layers, beta=0.0016)\n",
    "show(costs)"
   ]
  },
  {
   "cell_type": "markdown",
   "metadata": {
    "colab_type": "text",
    "id": "na8xX2yHZzNF"
   },
   "source": [
    "---\n",
    "Problem 2\n",
    "---------\n",
    "Let's demonstrate an extreme case of overfitting. Restrict your training data to just a few batches. What happens?\n",
    "\n",
    "---"
   ]
  },
  {
   "cell_type": "code",
   "execution_count": 11,
   "metadata": {
    "collapsed": true
   },
   "outputs": [],
   "source": [
    "train_subset = 1024\n",
    "train_dataset_temp = train_dataset\n",
    "train_dataset = train_dataset[:train_subset, :]\n",
    "train_labels_temp = train_labels\n",
    "train_labels = train_labels[:train_subset, :]"
   ]
  },
  {
   "cell_type": "code",
   "execution_count": 12,
   "metadata": {},
   "outputs": [
    {
     "name": "stdout",
     "output_type": "stream",
     "text": [
      "Minibatch loss at step 0: 391.370911\n",
      "Minibatch accuracy: 5.5%\n",
      "Validation accuracy: 30.1%\n",
      "Test accuracy: 32.1%\n",
      "Minibatch loss at step 500: 0.000004\n",
      "Minibatch accuracy: 100.0%\n",
      "Validation accuracy: 76.9%\n",
      "Test accuracy: 83.7%\n",
      "Minibatch loss at step 1000: 1.873972\n",
      "Minibatch accuracy: 99.2%\n",
      "Validation accuracy: 75.0%\n",
      "Test accuracy: 81.4%\n",
      "Minibatch loss at step 1500: 0.000051\n",
      "Minibatch accuracy: 100.0%\n",
      "Validation accuracy: 75.9%\n",
      "Test accuracy: 83.1%\n",
      "Minibatch loss at step 2000: 0.000000\n",
      "Minibatch accuracy: 100.0%\n",
      "Validation accuracy: 77.2%\n",
      "Test accuracy: 84.1%\n",
      "Minibatch loss at step 2500: 0.000030\n",
      "Minibatch accuracy: 100.0%\n",
      "Validation accuracy: 76.8%\n",
      "Test accuracy: 84.1%\n",
      "Minibatch loss at step 3000: 0.000032\n",
      "Minibatch accuracy: 100.0%\n",
      "Validation accuracy: 76.5%\n",
      "Test accuracy: 84.0%\n"
     ]
    },
    {
     "data": {
      "image/png": "[encoded data removed]",
      "text/plain": [
       "<matplotlib.figure.Figure at 0xdc87c18>"
      ]
     },
     "metadata": {},
     "output_type": "display_data"
    }
   ],
   "source": [
    "layers = [ image_size**2, 1024, num_labels ]\n",
    "costs = model(layers)\n",
    "show(costs)"
   ]
  },
  {
   "cell_type": "code",
   "execution_count": 13,
   "metadata": {},
   "outputs": [
    {
     "name": "stdout",
     "output_type": "stream",
     "text": [
      "Minibatch loss at step 0: 518.182861\n",
      "Minibatch accuracy: 12.5%\n",
      "Validation accuracy: 28.1%\n",
      "Test accuracy: 29.8%\n",
      "Minibatch loss at step 500: 0.000000\n",
      "Minibatch accuracy: 98.4%\n",
      "Validation accuracy: 78.7%\n",
      "Test accuracy: 85.7%\n",
      "Minibatch loss at step 1000: 7.274244\n",
      "Minibatch accuracy: 98.4%\n",
      "Validation accuracy: 79.1%\n",
      "Test accuracy: 86.1%\n",
      "Minibatch loss at step 1500: 0.000000\n",
      "Minibatch accuracy: 99.2%\n",
      "Validation accuracy: 79.1%\n",
      "Test accuracy: 86.3%\n",
      "Minibatch loss at step 2000: 0.000000\n",
      "Minibatch accuracy: 100.0%\n",
      "Validation accuracy: 79.5%\n",
      "Test accuracy: 86.3%\n",
      "Minibatch loss at step 2500: 0.213548\n",
      "Minibatch accuracy: 98.4%\n",
      "Validation accuracy: 79.6%\n",
      "Test accuracy: 86.4%\n",
      "Minibatch loss at step 3000: 0.000000\n",
      "Minibatch accuracy: 100.0%\n",
      "Validation accuracy: 79.5%\n",
      "Test accuracy: 86.0%\n"
     ]
    },
    {
     "data": {
      "image/png": "[encoded data removed]",
      "text/plain": [
       "<matplotlib.figure.Figure at 0xd2c9fd0>"
      ]
     },
     "metadata": {},
     "output_type": "display_data"
    }
   ],
   "source": [
    "layers = [ image_size**2, 1024, num_labels ]\n",
    "costs = model(layers, keep_prob=0.5)\n",
    "show(costs)"
   ]
  },
  {
   "cell_type": "code",
   "execution_count": 14,
   "metadata": {
    "collapsed": true
   },
   "outputs": [],
   "source": [
    "train_dataset = train_dataset_temp\n",
    "del train_dataset_temp\n",
    "train_labels = train_labels_temp\n",
    "del train_labels_temp"
   ]
  },
  {
   "cell_type": "markdown",
   "metadata": {
    "colab_type": "text",
    "id": "ww3SCBUdlkRc"
   },
   "source": [
    "---\n",
    "Problem 3\n",
    "---------\n",
    "Introduce Dropout on the hidden layer of the neural network. Remember: Dropout should only be introduced during training, not evaluation, otherwise your evaluation results would be stochastic as well. TensorFlow provides `nn.dropout()` for that, but you have to make sure it's only inserted during training.\n",
    "\n",
    "What happens to our extreme overfitting case?\n",
    "\n",
    "---"
   ]
  },
  {
   "cell_type": "code",
   "execution_count": 15,
   "metadata": {},
   "outputs": [
    {
     "name": "stdout",
     "output_type": "stream",
     "text": [
      "Minibatch loss at step 0: 998.771484\n",
      "Minibatch accuracy: 9.4%\n",
      "Validation accuracy: 37.3%\n",
      "Test accuracy: 40.2%\n",
      "Minibatch loss at step 500: 245.046677\n",
      "Minibatch accuracy: 71.1%\n",
      "Validation accuracy: 81.4%\n",
      "Test accuracy: 87.4%\n",
      "Minibatch loss at step 1000: 102.189178\n",
      "Minibatch accuracy: 68.8%\n",
      "Validation accuracy: 81.8%\n",
      "Test accuracy: 88.4%\n",
      "Minibatch loss at step 1500: 46.612961\n",
      "Minibatch accuracy: 75.0%\n",
      "Validation accuracy: 83.6%\n",
      "Test accuracy: 89.7%\n",
      "Minibatch loss at step 2000: 20.843691\n",
      "Minibatch accuracy: 84.4%\n",
      "Validation accuracy: 84.8%\n",
      "Test accuracy: 91.2%\n",
      "Minibatch loss at step 2500: 9.803857\n",
      "Minibatch accuracy: 82.0%\n",
      "Validation accuracy: 85.9%\n",
      "Test accuracy: 91.8%\n",
      "Minibatch loss at step 3000: 4.485167\n",
      "Minibatch accuracy: 86.7%\n",
      "Validation accuracy: 86.4%\n",
      "Test accuracy: 92.5%\n"
     ]
    },
    {
     "data": {
      "image/png": "[encoded data removed]",
      "text/plain": [
       "<matplotlib.figure.Figure at 0xdbccb00>"
      ]
     },
     "metadata": {},
     "output_type": "display_data"
    }
   ],
   "source": [
    "layers = [ image_size**2, 1024, num_labels ]\n",
    "costs = model(layers, beta=0.0016, keep_prob=0.5)\n",
    "show(costs)"
   ]
  },
  {
   "cell_type": "markdown",
   "metadata": {
    "colab_type": "text",
    "id": "-b1hTz3VWZjw"
   },
   "source": [
    "---\n",
    "Problem 4\n",
    "---------\n",
    "\n",
    "Try to get the best performance you can using a multi-layer model! The best reported test accuracy using a deep network is [97.1%](http://yaroslavvb.blogspot.com/2011/09/notmnist-dataset.html?showComment=1391023266211#c8758720086795711595).\n",
    "\n",
    "One avenue you can explore is to add multiple layers.\n",
    "\n",
    "Another one is to use learning rate decay:\n",
    "\n",
    "    global_step = tf.Variable(0)  # count the number of steps taken.\n",
    "    learning_rate = tf.train.exponential_decay(0.5, global_step, ...)\n",
    "    optimizer = tf.train.GradientDescentOptimizer(learning_rate).minimize(loss, global_step=global_step)\n",
    " \n",
    " ---\n"
   ]
  },
  {
   "cell_type": "code",
   "execution_count": 37,
   "metadata": {},
   "outputs": [
    {
     "name": "stdout",
     "output_type": "stream",
     "text": [
      "Minibatch loss at step 0: 822.447510\n",
      "Minibatch accuracy: 9.4%\n",
      "Minibatch loss at step 500: 179.533051\n",
      "Minibatch accuracy: 82.0%\n",
      "Minibatch loss at step 1000: 71.886803\n",
      "Minibatch accuracy: 82.4%\n",
      "Minibatch loss at step 1500: 31.581968\n",
      "Minibatch accuracy: 85.9%\n",
      "Minibatch loss at step 2000: 15.389604\n",
      "Minibatch accuracy: 89.8%\n",
      "Minibatch loss at step 2500: 8.018182\n",
      "Minibatch accuracy: 91.4%\n",
      "Minibatch loss at step 3000: 4.541883\n",
      "Minibatch accuracy: 92.6%\n",
      "Minibatch loss at step 3500: 2.912516\n",
      "Minibatch accuracy: 88.7%\n",
      "Minibatch loss at step 4000: 1.885607\n",
      "Minibatch accuracy: 91.8%\n",
      "Minibatch loss at step 4500: 1.354897\n",
      "Minibatch accuracy: 92.2%\n",
      "Minibatch loss at step 5000: 1.086254\n",
      "Minibatch accuracy: 88.3%\n",
      "Minibatch loss at step 5500: 0.889245\n",
      "Minibatch accuracy: 88.7%\n",
      "Minibatch loss at step 6000: 0.768291\n",
      "Minibatch accuracy: 91.0%\n",
      "Minibatch loss at step 6500: 0.720140\n",
      "Minibatch accuracy: 90.2%\n",
      "Minibatch loss at step 7000: 0.742632\n",
      "Minibatch accuracy: 86.3%\n",
      "Minibatch loss at step 7500: 0.521545\n",
      "Minibatch accuracy: 93.8%\n",
      "Minibatch loss at step 8000: 0.569202\n",
      "Minibatch accuracy: 91.4%\n",
      "Minibatch loss at step 8500: 0.482624\n",
      "Minibatch accuracy: 92.6%\n",
      "Minibatch loss at step 9000: 0.441100\n",
      "Minibatch accuracy: 94.1%\n",
      "Minibatch loss at step 9500: 0.528063\n",
      "Minibatch accuracy: 91.4%\n",
      "Minibatch loss at step 10000: 0.503810\n",
      "Minibatch accuracy: 90.2%\n",
      "Minibatch loss at step 10500: 0.473930\n",
      "Minibatch accuracy: 91.0%\n",
      "Minibatch loss at step 11000: 0.425703\n",
      "Minibatch accuracy: 94.9%\n",
      "Minibatch loss at step 11500: 0.387039\n",
      "Minibatch accuracy: 91.8%\n",
      "Minibatch loss at step 12000: 0.362404\n",
      "Minibatch accuracy: 95.3%\n",
      "Minibatch loss at step 12500: 0.431375\n",
      "Minibatch accuracy: 92.6%\n",
      "Minibatch loss at step 13000: 0.506223\n",
      "Minibatch accuracy: 89.5%\n",
      "Minibatch loss at step 13500: 0.417880\n",
      "Minibatch accuracy: 92.6%\n",
      "Minibatch loss at step 14000: 0.577986\n",
      "Minibatch accuracy: 86.7%\n",
      "Minibatch loss at step 14500: 0.371091\n",
      "Minibatch accuracy: 93.4%\n",
      "Minibatch loss at step 15000: 0.488089\n",
      "Minibatch accuracy: 90.6%\n",
      "Minibatch loss at step 15500: 0.509513\n",
      "Minibatch accuracy: 89.5%\n",
      "Minibatch loss at step 16000: 0.433022\n",
      "Minibatch accuracy: 92.2%\n",
      "Validation accuracy: 90.1%\n",
      "Test accuracy: 95.4%\n"
     ]
    },
    {
     "data": {
      "image/png": "[encoded data removed]",
      "text/plain": [
       "<matplotlib.figure.Figure at 0xde62cf8>"
      ]
     },
     "metadata": {},
     "output_type": "display_data"
    }
   ],
   "source": [
    "layers = [ image_size**2, 1024, num_labels ]\n",
    "costs = model(layers, learning_rate=0.64, beta=0.0015, decay_rate=0.86, num_iterations=16001, batch_size=256)\n",
    "show(costs)"
   ]
  },
  {
   "cell_type": "code",
   "execution_count": 26,
   "metadata": {},
   "outputs": [
    {
     "name": "stdout",
     "output_type": "stream",
     "text": [
      "Minibatch loss at step 0: 10985.183594\n",
      "Minibatch accuracy: 12.5%\n",
      "Validation accuracy: 34.8%\n",
      "Test accuracy: 38.1%\n",
      "Minibatch loss at step 500: 2263.863770\n",
      "Minibatch accuracy: 75.0%\n",
      "Validation accuracy: 82.8%\n",
      "Test accuracy: 89.1%\n",
      "Minibatch loss at step 1000: 1865.535889\n",
      "Minibatch accuracy: 82.8%\n",
      "Validation accuracy: 84.0%\n",
      "Test accuracy: 90.0%\n",
      "Minibatch loss at step 1500: 1811.707031\n",
      "Minibatch accuracy: 82.8%\n",
      "Validation accuracy: 84.4%\n",
      "Test accuracy: 90.8%\n",
      "Minibatch loss at step 2000: 1709.912720\n",
      "Minibatch accuracy: 86.7%\n",
      "Validation accuracy: 84.5%\n",
      "Test accuracy: 90.8%\n",
      "Minibatch loss at step 2500: 1734.371216\n",
      "Minibatch accuracy: 84.4%\n",
      "Validation accuracy: 83.5%\n",
      "Test accuracy: 89.2%\n",
      "Minibatch loss at step 3000: 1626.049072\n",
      "Minibatch accuracy: 91.4%\n",
      "Validation accuracy: 85.0%\n",
      "Test accuracy: 91.0%\n",
      "Minibatch loss at step 3500: 1638.218506\n",
      "Minibatch accuracy: 87.5%\n",
      "Validation accuracy: 85.2%\n",
      "Test accuracy: 91.3%\n",
      "Minibatch loss at step 4000: 1602.284424\n",
      "Minibatch accuracy: 89.8%\n",
      "Validation accuracy: 85.4%\n",
      "Test accuracy: 91.5%\n",
      "Minibatch loss at step 4500: 1589.679077\n",
      "Minibatch accuracy: 89.1%\n",
      "Validation accuracy: 85.3%\n",
      "Test accuracy: 91.1%\n",
      "Minibatch loss at step 5000: 1564.596313\n",
      "Minibatch accuracy: 90.6%\n",
      "Validation accuracy: 85.0%\n",
      "Test accuracy: 91.5%\n"
     ]
    },
    {
     "data": {
      "image/png": "[encoded data removed]",
      "text/plain": [
       "<matplotlib.figure.Figure at 0xd2c9e48>"
      ]
     },
     "metadata": {},
     "output_type": "display_data"
    }
   ],
   "source": [
    "layers = [ image_size**2, 1024, 2048, num_labels ]\n",
    "costs = model(layers, learning_rate=0.0064, beta=0.0015, keep_prob=1.0, decay_rate=0.86, batch_size=128, num_iterations=5001)\n",
    "show(costs)"
   ]
  },
  {
   "cell_type": "code",
   "execution_count": null,
   "metadata": {
    "collapsed": true
   },
   "outputs": [],
   "source": []
  }
 ],
 "metadata": {
  "colab": {
   "default_view": {},
   "name": "3_regularization.ipynb",
   "provenance": [],
   "version": "0.3.2",
   "views": {}
  },
  "kernelspec": {
   "display_name": "Python 3",
   "language": "python",
   "name": "python3"
  },
  "language_info": {
   "codemirror_mode": {
    "name": "ipython",
    "version": 3
   },
   "file_extension": ".py",
   "mimetype": "text/x-python",
   "name": "python",
   "nbconvert_exporter": "python",
   "pygments_lexer": "ipython3",
   "version": "3.5.4"
  }
 },
 "nbformat": 4,
 "nbformat_minor": 1
}
