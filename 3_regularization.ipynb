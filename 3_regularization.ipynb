{
 "cells": [
  {
   "cell_type": "markdown",
   "metadata": {
    "colab_type": "text",
    "id": "kR-4eNdK6lYS"
   },
   "source": [
    "Deep Learning\n",
    "=============\n",
    "\n",
    "Assignment 3\n",
    "------------\n",
    "\n",
    "Previously in `2_fullyconnected.ipynb`, you trained a logistic regression and a neural network model.\n",
    "\n",
    "The goal of this assignment is to explore regularization techniques."
   ]
  },
  {
   "cell_type": "code",
   "execution_count": 1,
   "metadata": {
    "cellView": "both",
    "colab": {
     "autoexec": {
      "startup": false,
      "wait_interval": 0
     }
    },
    "colab_type": "code",
    "collapsed": true,
    "id": "JLpLa8Jt7Vu4"
   },
   "outputs": [],
   "source": [
    "# These are all the modules we'll be using later. Make sure you can import them\n",
    "# before proceeding further.\n",
    "from __future__ import print_function\n",
    "import numpy as np\n",
    "import tensorflow as tf\n",
    "from six.moves import cPickle as pickle\n",
    "import matplotlib.pyplot as plt\n",
    "\n",
    "%matplotlib inline"
   ]
  },
  {
   "cell_type": "markdown",
   "metadata": {
    "colab_type": "text",
    "id": "1HrCK6e17WzV"
   },
   "source": [
    "First reload the data we generated in `1_notmnist.ipynb`."
   ]
  },
  {
   "cell_type": "code",
   "execution_count": 2,
   "metadata": {
    "cellView": "both",
    "colab": {
     "autoexec": {
      "startup": false,
      "wait_interval": 0
     },
     "output_extras": [
      {
       "item_id": 1
      }
     ]
    },
    "colab_type": "code",
    "executionInfo": {
     "elapsed": 11777,
     "status": "ok",
     "timestamp": 1449849322348,
     "user": {
      "color": "",
      "displayName": "",
      "isAnonymous": false,
      "isMe": true,
      "permissionId": "",
      "photoUrl": "",
      "sessionId": "0",
      "userId": ""
     },
     "user_tz": 480
    },
    "id": "y3-cj1bpmuxc",
    "outputId": "e03576f1-ebbe-4838-c388-f1777bcc9873"
   },
   "outputs": [
    {
     "name": "stdout",
     "output_type": "stream",
     "text": [
      "Training set (200000, 28, 28) (200000,)\n",
      "Validation set (10000, 28, 28) (10000,)\n",
      "Test set (10000, 28, 28) (10000,)\n"
     ]
    }
   ],
   "source": [
    "pickle_file = 'notMNIST.pickle'\n",
    "\n",
    "with open(pickle_file, 'rb') as f:\n",
    "    save = pickle.load(f)\n",
    "    train_dataset = save['train_dataset']\n",
    "    train_labels = save['train_labels']\n",
    "    valid_dataset = save['valid_dataset']\n",
    "    valid_labels = save['valid_labels']\n",
    "    test_dataset = save['test_dataset']\n",
    "    test_labels = save['test_labels']\n",
    "    del save  # hint to help gc free up memory\n",
    "    print('Training set', train_dataset.shape, train_labels.shape)\n",
    "    print('Validation set', valid_dataset.shape, valid_labels.shape)\n",
    "    print('Test set', test_dataset.shape, test_labels.shape)"
   ]
  },
  {
   "cell_type": "markdown",
   "metadata": {
    "colab_type": "text",
    "id": "L7aHrm6nGDMB"
   },
   "source": [
    "Reformat into a shape that's more adapted to the models we're going to train:\n",
    "- data as a flat matrix,\n",
    "- labels as float 1-hot encodings."
   ]
  },
  {
   "cell_type": "code",
   "execution_count": 3,
   "metadata": {
    "cellView": "both",
    "colab": {
     "autoexec": {
      "startup": false,
      "wait_interval": 0
     },
     "output_extras": [
      {
       "item_id": 1
      }
     ]
    },
    "colab_type": "code",
    "executionInfo": {
     "elapsed": 11728,
     "status": "ok",
     "timestamp": 1449849322356,
     "user": {
      "color": "",
      "displayName": "",
      "isAnonymous": false,
      "isMe": true,
      "permissionId": "",
      "photoUrl": "",
      "sessionId": "0",
      "userId": ""
     },
     "user_tz": 480
    },
    "id": "IRSyYiIIGIzS",
    "outputId": "3f8996ee-3574-4f44-c953-5c8a04636582"
   },
   "outputs": [
    {
     "name": "stdout",
     "output_type": "stream",
     "text": [
      "Training set (200000, 784) (200000, 10)\n",
      "Validation set (10000, 784) (10000, 10)\n",
      "Test set (10000, 784) (10000, 10)\n"
     ]
    }
   ],
   "source": [
    "image_size = 28\n",
    "num_labels = 10\n",
    "\n",
    "def reformat(dataset, labels):\n",
    "    dataset = dataset.reshape((-1, image_size * image_size)).astype(np.float32)\n",
    "    # Map 1 to [0.0, 1.0, 0.0 ...], 2 to [0.0, 0.0, 1.0 ...]\n",
    "    labels = (np.arange(num_labels) == labels[:,None]).astype(np.float32)\n",
    "    return dataset, labels\n",
    "train_dataset, train_labels = reformat(train_dataset, train_labels)\n",
    "valid_dataset, valid_labels = reformat(valid_dataset, valid_labels)\n",
    "test_dataset, test_labels = reformat(test_dataset, test_labels)\n",
    "print('Training set', train_dataset.shape, train_labels.shape)\n",
    "print('Validation set', valid_dataset.shape, valid_labels.shape)\n",
    "print('Test set', test_dataset.shape, test_labels.shape)"
   ]
  },
  {
   "cell_type": "code",
   "execution_count": 4,
   "metadata": {
    "cellView": "both",
    "colab": {
     "autoexec": {
      "startup": false,
      "wait_interval": 0
     }
    },
    "colab_type": "code",
    "collapsed": true,
    "id": "RajPLaL_ZW6w"
   },
   "outputs": [],
   "source": [
    "def accuracy(predictions, labels):\n",
    "    return (100.0 * np.sum(np.argmax(predictions, 1) == np.argmax(labels, 1)) / predictions.shape[0])"
   ]
  },
  {
   "cell_type": "markdown",
   "metadata": {
    "colab_type": "text",
    "id": "sgLbUAQ1CW-1"
   },
   "source": [
    "---\n",
    "Problem 1\n",
    "---------\n",
    "\n",
    "Introduce and tune L2 regularization for both logistic and neural network models. Remember that L2 amounts to adding a penalty on the norm of the weights to the loss. In TensorFlow, you can compute the L2 loss for a tensor `t` using `nn.l2_loss(t)`. The right amount of regularization should improve your validation / test accuracy.\n",
    "\n",
    "---"
   ]
  },
  {
   "cell_type": "code",
   "execution_count": 5,
   "metadata": {
    "collapsed": true
   },
   "outputs": [],
   "source": [
    "def show(costs):\n",
    "    plt.plot(np.squeeze(costs))\n",
    "    plt.ylabel('cost')\n",
    "    plt.xlabel('iterations (per tens)')\n",
    "    plt.show()"
   ]
  },
  {
   "cell_type": "code",
   "execution_count": 6,
   "metadata": {
    "collapsed": true
   },
   "outputs": [],
   "source": [
    "def initialize_parameters(layers_dims):\n",
    "    parameters = {}    \n",
    "    for l in range(1, len(layers_dims)):\n",
    "        parameters['W' + str(l)] = tf.Variable(tf.truncated_normal([layers_dims[l-1], layers_dims[l]]))\n",
    "        parameters['b' + str(l)] = tf.Variable(tf.zeros([layers_dims[l]]))\n",
    "    return parameters\n",
    "\n",
    "def loss_l2(beta):\n",
    "    variables = tf.trainable_variables()\n",
    "    lossl2 = tf.add_n([tf.nn.l2_loss(i) for i in variables]) * beta\n",
    "    return lossl2"
   ]
  },
  {
   "cell_type": "code",
   "execution_count": 8,
   "metadata": {},
   "outputs": [],
   "source": [
    "def model(layers = None, num_iterations = 3001, batch_size = 128, learning_rate= 0.5, \n",
    "        beta = 0.0, keep_prob = 1.0, decay_rate = 1.0, trace = True):\n",
    "    costs = []\n",
    "    \n",
    "    graph = tf.Graph()\n",
    "    with graph.as_default():\n",
    "\n",
    "        tf_train_dataset = tf.placeholder(tf.float32, shape=(batch_size, image_size**2))\n",
    "        tf_train_labels = tf.placeholder(tf.float32, shape=(batch_size, num_labels))\n",
    "        tf_keep_prob = tf.placeholder(tf.float32)\n",
    "        \n",
    "        tf_valid_dataset = tf.constant(valid_dataset)\n",
    "        tf_test_dataset = tf.constant(test_dataset)\n",
    "        \n",
    "        # learning rate decay\n",
    "        global_step = tf.Variable(0, trainable=False)\n",
    "        tf_learning_rate = learning_rate = tf.train.exponential_decay(\n",
    "            learning_rate, # Base learning rate.\n",
    "            global_step * batch_size, # Current index into the dataset.\n",
    "            len(train_dataset), # Decay step.\n",
    "            decay_rate, # Decay rate.\n",
    "            staircase=True)\n",
    "\n",
    "        if (not layers):\n",
    "            layers = [ image_size**2, num_labels ]\n",
    "\n",
    "        parameters = initialize_parameters(layers)\n",
    "        \n",
    "        def forward_propagation(X, parameters):\n",
    "            A = X\n",
    "            L = len(parameters) // 2 + 1 # number of layers in the neural network\n",
    "            # linear[1] -> relu -> liner[2] -> relu -> ... -> linear[L-1]\n",
    "            for l in range(1, L):\n",
    "                W = parameters['W' + str(l)]\n",
    "                b = parameters['b' + str(l)]\n",
    "                Z = tf.add(tf.matmul(A, W), b)\n",
    "                # dont apply activation on output layer\n",
    "                if (l < L - 1):\n",
    "                    R = tf.nn.relu(Z)\n",
    "                    A = tf.nn.dropout(R, tf_keep_prob)\n",
    "            return Z\n",
    "        \n",
    "        logits = forward_propagation(tf_train_dataset, parameters)\n",
    "\n",
    "        loss = tf.reduce_mean(tf.nn.softmax_cross_entropy_with_logits(logits=logits, labels=tf_train_labels))\n",
    "        \n",
    "        # L2 regularization\n",
    "        if (beta > 0):\n",
    "            loss = loss + loss_l2(beta)\n",
    "\n",
    "        # optimizer = tf.train.GradientDescentOptimizer(learning_rate).minimize(loss)\n",
    "        optimizer = tf.train.GradientDescentOptimizer(tf_learning_rate).minimize(loss, global_step=global_step)\n",
    "        # optimizer = tf.train.AdamOptimizer(learning_rate).minimize(loss)        \n",
    "       \n",
    "        train_prediction = tf.nn.softmax(forward_propagation(tf_train_dataset, parameters))\n",
    "        valid_prediction = tf.nn.softmax(forward_propagation(tf_valid_dataset, parameters))\n",
    "        test_prediction = tf.nn.softmax(forward_propagation(tf_test_dataset, parameters))\n",
    "    \n",
    "    with tf.Session(graph=graph) as session:\n",
    "    \n",
    "        tf.global_variables_initializer().run()\n",
    "\n",
    "        for step in range(num_iterations):\n",
    "            offset = (step * batch_size) % (train_labels.shape[0] - batch_size)\n",
    "            batch_data = train_dataset[offset:(offset + batch_size), :]\n",
    "            batch_labels = train_labels[offset:(offset + batch_size), :]\n",
    "            feed_dict = {\n",
    "                tf_train_dataset : batch_data, \n",
    "                tf_train_labels : batch_labels,\n",
    "                tf_keep_prob : keep_prob\n",
    "            }\n",
    "            _, step_cost, predictions = session.run([optimizer, loss, train_prediction], feed_dict=feed_dict)\n",
    "            if (trace and step % 500 == 0):\n",
    "                print(\"Minibatch loss at step %d: %f\" % (step, step_cost))\n",
    "                print(\"Minibatch accuracy: %.1f%%\" % accuracy(predictions, batch_labels))\n",
    "                print(\"Validation accuracy: %.1f%%\" % accuracy(valid_prediction.eval({ tf_keep_prob : 1.0}), valid_labels))\n",
    "                print(\"Test accuracy: %.1f%%\" % accuracy(test_prediction.eval({ tf_keep_prob : 1.0}), test_labels))\n",
    "            if (step % 5 == 0):\n",
    "                costs.append(step_cost)\n",
    "\n",
    "    return costs"
   ]
  },
  {
   "cell_type": "code",
   "execution_count": 9,
   "metadata": {},
   "outputs": [
    {
     "name": "stdout",
     "output_type": "stream",
     "text": [
      "Minibatch loss at step 0: 20.549438\n",
      "Minibatch accuracy: 15.6%\n",
      "Validation accuracy: 16.3%\n",
      "Test accuracy: 16.9%\n",
      "Minibatch loss at step 500: 1.492805\n",
      "Minibatch accuracy: 79.7%\n",
      "Validation accuracy: 74.8%\n",
      "Test accuracy: 83.1%\n",
      "Minibatch loss at step 1000: 1.333698\n",
      "Minibatch accuracy: 73.4%\n",
      "Validation accuracy: 76.8%\n",
      "Test accuracy: 84.9%\n",
      "Minibatch loss at step 1500: 0.830947\n",
      "Minibatch accuracy: 80.5%\n",
      "Validation accuracy: 77.1%\n",
      "Test accuracy: 84.8%\n",
      "Minibatch loss at step 2000: 1.051542\n",
      "Minibatch accuracy: 78.1%\n",
      "Validation accuracy: 77.2%\n",
      "Test accuracy: 85.3%\n",
      "Minibatch loss at step 2500: 1.099141\n",
      "Minibatch accuracy: 78.1%\n",
      "Validation accuracy: 77.6%\n",
      "Test accuracy: 85.4%\n",
      "Minibatch loss at step 3000: 1.375134\n",
      "Minibatch accuracy: 70.3%\n",
      "Validation accuracy: 77.3%\n",
      "Test accuracy: 85.3%\n"
     ]
    },
    {
     "data": {
      "image/png": "[encoded data removed]",
      "text/plain": [
       "<matplotlib.figure.Figure at 0xd0db860>"
      ]
     },
     "metadata": {},
     "output_type": "display_data"
    },
    {
     "name": "stdout",
     "output_type": "stream",
     "text": [
      "Minibatch loss at step 0: 22.987957\n",
      "Minibatch accuracy: 10.2%\n",
      "Validation accuracy: 12.0%\n",
      "Test accuracy: 12.8%\n",
      "Minibatch loss at step 500: 2.837102\n",
      "Minibatch accuracy: 80.5%\n",
      "Validation accuracy: 76.1%\n",
      "Test accuracy: 83.9%\n",
      "Minibatch loss at step 1000: 1.716552\n",
      "Minibatch accuracy: 77.3%\n",
      "Validation accuracy: 78.2%\n",
      "Test accuracy: 85.5%\n",
      "Minibatch loss at step 1500: 1.026907\n",
      "Minibatch accuracy: 83.6%\n",
      "Validation accuracy: 80.0%\n",
      "Test accuracy: 87.4%\n",
      "Minibatch loss at step 2000: 0.854522\n",
      "Minibatch accuracy: 85.2%\n",
      "Validation accuracy: 80.3%\n",
      "Test accuracy: 87.0%\n",
      "Minibatch loss at step 2500: 0.938165\n",
      "Minibatch accuracy: 78.9%\n",
      "Validation accuracy: 78.5%\n",
      "Test accuracy: 84.9%\n",
      "Minibatch loss at step 3000: 0.955133\n",
      "Minibatch accuracy: 79.7%\n",
      "Validation accuracy: 80.5%\n",
      "Test accuracy: 87.9%\n"
     ]
    },
    {
     "data": {
      "image/png": "[encoded data removed]",
      "text/plain": [
       "<matplotlib.figure.Figure at 0xd4dac50>"
      ]
     },
     "metadata": {},
     "output_type": "display_data"
    }
   ],
   "source": [
    "costs = model()\n",
    "show(costs)\n",
    "costs = model(beta=0.001)\n",
    "show(costs)"
   ]
  },
  {
   "cell_type": "code",
   "execution_count": 10,
   "metadata": {},
   "outputs": [
    {
     "name": "stdout",
     "output_type": "stream",
     "text": [
      "Minibatch loss at step 0: 344.788269\n",
      "Minibatch accuracy: 9.4%\n",
      "Validation accuracy: 27.8%\n",
      "Test accuracy: 30.7%\n",
      "Minibatch loss at step 500: 19.737850\n",
      "Minibatch accuracy: 82.0%\n",
      "Validation accuracy: 79.9%\n",
      "Test accuracy: 86.7%\n",
      "Minibatch loss at step 1000: 4.722331\n",
      "Minibatch accuracy: 82.0%\n",
      "Validation accuracy: 80.4%\n",
      "Test accuracy: 87.3%\n",
      "Minibatch loss at step 1500: 10.918081\n",
      "Minibatch accuracy: 82.8%\n",
      "Validation accuracy: 80.4%\n",
      "Test accuracy: 87.5%\n",
      "Minibatch loss at step 2000: 3.685852\n",
      "Minibatch accuracy: 84.4%\n",
      "Validation accuracy: 80.4%\n",
      "Test accuracy: 87.6%\n",
      "Minibatch loss at step 2500: 8.281919\n",
      "Minibatch accuracy: 78.1%\n",
      "Validation accuracy: 80.1%\n",
      "Test accuracy: 87.5%\n",
      "Minibatch loss at step 3000: 4.137770\n",
      "Minibatch accuracy: 82.0%\n",
      "Validation accuracy: 81.3%\n",
      "Test accuracy: 88.5%\n"
     ]
    },
    {
     "data": {
      "image/png": "[encoded data removed]",
      "text/plain": [
       "<matplotlib.figure.Figure at 0xe385550>"
      ]
     },
     "metadata": {},
     "output_type": "display_data"
    }
   ],
   "source": [
    "layers = [ image_size**2, 1024, num_labels ]\n",
    "costs = model(layers)\n",
    "show(costs)"
   ]
  },
  {
   "cell_type": "code",
   "execution_count": 11,
   "metadata": {},
   "outputs": [
    {
     "name": "stdout",
     "output_type": "stream",
     "text": [
      "Minibatch loss at step 0: 830.565308\n",
      "Minibatch accuracy: 9.4%\n",
      "Validation accuracy: 24.7%\n",
      "Test accuracy: 26.0%\n",
      "Minibatch loss at step 500: 231.470245\n",
      "Minibatch accuracy: 81.2%\n",
      "Validation accuracy: 80.2%\n",
      "Test accuracy: 86.7%\n",
      "Minibatch loss at step 1000: 100.271507\n",
      "Minibatch accuracy: 88.3%\n",
      "Validation accuracy: 82.4%\n",
      "Test accuracy: 89.5%\n",
      "Minibatch loss at step 1500: 45.150524\n",
      "Minibatch accuracy: 82.0%\n",
      "Validation accuracy: 84.5%\n",
      "Test accuracy: 91.0%\n",
      "Minibatch loss at step 2000: 20.234325\n",
      "Minibatch accuracy: 92.2%\n",
      "Validation accuracy: 85.7%\n",
      "Test accuracy: 92.2%\n",
      "Minibatch loss at step 2500: 9.493469\n",
      "Minibatch accuracy: 86.7%\n",
      "Validation accuracy: 86.9%\n",
      "Test accuracy: 93.4%\n",
      "Minibatch loss at step 3000: 4.586417\n",
      "Minibatch accuracy: 83.6%\n",
      "Validation accuracy: 86.9%\n",
      "Test accuracy: 93.3%\n"
     ]
    },
    {
     "data": {
      "image/png": "[encoded data removed]",
      "text/plain": [
       "<matplotlib.figure.Figure at 0xe3ec048>"
      ]
     },
     "metadata": {},
     "output_type": "display_data"
    }
   ],
   "source": [
    "layers = [ image_size**2, 1024, num_labels ]\n",
    "costs = model(layers, beta=0.0016)\n",
    "show(costs)"
   ]
  },
  {
   "cell_type": "markdown",
   "metadata": {
    "colab_type": "text",
    "id": "na8xX2yHZzNF"
   },
   "source": [
    "---\n",
    "Problem 2\n",
    "---------\n",
    "Let's demonstrate an extreme case of overfitting. Restrict your training data to just a few batches. What happens?\n",
    "\n",
    "---"
   ]
  },
  {
   "cell_type": "code",
   "execution_count": 12,
   "metadata": {
    "collapsed": true
   },
   "outputs": [],
   "source": [
    "train_subset = 1024\n",
    "train_dataset_temp = train_dataset\n",
    "train_dataset = train_dataset[:train_subset, :]\n",
    "train_labels_temp = train_labels\n",
    "train_labels = train_labels[:train_subset, :]"
   ]
  },
  {
   "cell_type": "code",
   "execution_count": 13,
   "metadata": {},
   "outputs": [
    {
     "name": "stdout",
     "output_type": "stream",
     "text": [
      "Minibatch loss at step 0: 354.309509\n",
      "Minibatch accuracy: 7.0%\n",
      "Validation accuracy: 15.5%\n",
      "Test accuracy: 16.5%\n",
      "Minibatch loss at step 500: 0.000000\n",
      "Minibatch accuracy: 100.0%\n",
      "Validation accuracy: 77.3%\n",
      "Test accuracy: 84.5%\n",
      "Minibatch loss at step 1000: 0.520273\n",
      "Minibatch accuracy: 99.2%\n",
      "Validation accuracy: 75.8%\n",
      "Test accuracy: 82.4%\n",
      "Minibatch loss at step 1500: 0.000002\n",
      "Minibatch accuracy: 100.0%\n",
      "Validation accuracy: 76.9%\n",
      "Test accuracy: 84.1%\n",
      "Minibatch loss at step 2000: 0.000191\n",
      "Minibatch accuracy: 100.0%\n",
      "Validation accuracy: 76.9%\n",
      "Test accuracy: 84.1%\n",
      "Minibatch loss at step 2500: 0.036676\n",
      "Minibatch accuracy: 99.2%\n",
      "Validation accuracy: 75.8%\n",
      "Test accuracy: 82.5%\n",
      "Minibatch loss at step 3000: 0.000034\n",
      "Minibatch accuracy: 100.0%\n",
      "Validation accuracy: 76.6%\n",
      "Test accuracy: 83.8%\n"
     ]
    },
    {
     "data": {
      "image/png": "[encoded data removed]",
      "text/plain": [
       "<matplotlib.figure.Figure at 0xd2efb00>"
      ]
     },
     "metadata": {},
     "output_type": "display_data"
    }
   ],
   "source": [
    "layers = [ image_size**2, 1024, num_labels ]\n",
    "costs = model(layers)\n",
    "show(costs)"
   ]
  },
  {
   "cell_type": "code",
   "execution_count": 14,
   "metadata": {},
   "outputs": [
    {
     "name": "stdout",
     "output_type": "stream",
     "text": [
      "Minibatch loss at step 0: 383.864105\n",
      "Minibatch accuracy: 16.4%\n",
      "Validation accuracy: 20.4%\n",
      "Test accuracy: 22.5%\n",
      "Minibatch loss at step 500: 0.000000\n",
      "Minibatch accuracy: 98.4%\n",
      "Validation accuracy: 79.1%\n",
      "Test accuracy: 86.2%\n",
      "Minibatch loss at step 1000: 4.266492\n",
      "Minibatch accuracy: 99.2%\n",
      "Validation accuracy: 79.8%\n",
      "Test accuracy: 86.7%\n",
      "Minibatch loss at step 1500: 0.049518\n",
      "Minibatch accuracy: 99.2%\n",
      "Validation accuracy: 79.5%\n",
      "Test accuracy: 86.8%\n",
      "Minibatch loss at step 2000: 0.000000\n",
      "Minibatch accuracy: 100.0%\n",
      "Validation accuracy: 79.5%\n",
      "Test accuracy: 86.8%\n",
      "Minibatch loss at step 2500: 0.612749\n",
      "Minibatch accuracy: 99.2%\n",
      "Validation accuracy: 79.5%\n",
      "Test accuracy: 86.8%\n",
      "Minibatch loss at step 3000: 0.000000\n",
      "Minibatch accuracy: 100.0%\n",
      "Validation accuracy: 79.4%\n",
      "Test accuracy: 86.7%\n"
     ]
    },
    {
     "data": {
      "image/png": "[encoded data removed]",
      "text/plain": [
       "<matplotlib.figure.Figure at 0xd48aa20>"
      ]
     },
     "metadata": {},
     "output_type": "display_data"
    }
   ],
   "source": [
    "layers = [ image_size**2, 1024, num_labels ]\n",
    "costs = model(layers, keep_prob=0.5)\n",
    "show(costs)"
   ]
  },
  {
   "cell_type": "code",
   "execution_count": 15,
   "metadata": {
    "collapsed": true
   },
   "outputs": [],
   "source": [
    "train_dataset = train_dataset_temp\n",
    "del train_dataset_temp\n",
    "train_labels = train_labels_temp\n",
    "del train_labels_temp"
   ]
  },
  {
   "cell_type": "markdown",
   "metadata": {
    "colab_type": "text",
    "id": "ww3SCBUdlkRc"
   },
   "source": [
    "---\n",
    "Problem 3\n",
    "---------\n",
    "Introduce Dropout on the hidden layer of the neural network. Remember: Dropout should only be introduced during training, not evaluation, otherwise your evaluation results would be stochastic as well. TensorFlow provides `nn.dropout()` for that, but you have to make sure it's only inserted during training.\n",
    "\n",
    "What happens to our extreme overfitting case?\n",
    "\n",
    "---"
   ]
  },
  {
   "cell_type": "code",
   "execution_count": 16,
   "metadata": {},
   "outputs": [
    {
     "name": "stdout",
     "output_type": "stream",
     "text": [
      "Minibatch loss at step 0: 1018.685303\n",
      "Minibatch accuracy: 11.7%\n",
      "Validation accuracy: 23.2%\n",
      "Test accuracy: 24.9%\n",
      "Minibatch loss at step 500: 241.508545\n",
      "Minibatch accuracy: 75.8%\n",
      "Validation accuracy: 80.3%\n",
      "Test accuracy: 87.5%\n",
      "Minibatch loss at step 1000: 102.583977\n",
      "Minibatch accuracy: 78.9%\n",
      "Validation accuracy: 81.9%\n",
      "Test accuracy: 88.4%\n",
      "Minibatch loss at step 1500: 45.430271\n",
      "Minibatch accuracy: 77.3%\n",
      "Validation accuracy: 82.9%\n",
      "Test accuracy: 89.7%\n",
      "Minibatch loss at step 2000: 20.689552\n",
      "Minibatch accuracy: 85.9%\n",
      "Validation accuracy: 84.8%\n",
      "Test accuracy: 91.3%\n",
      "Minibatch loss at step 2500: 9.776761\n",
      "Minibatch accuracy: 77.3%\n",
      "Validation accuracy: 85.5%\n",
      "Test accuracy: 92.4%\n",
      "Minibatch loss at step 3000: 4.755726\n",
      "Minibatch accuracy: 82.8%\n",
      "Validation accuracy: 85.7%\n",
      "Test accuracy: 92.5%\n"
     ]
    },
    {
     "data": {
      "image/png": "[encoded data removed]",
      "text/plain": [
       "<matplotlib.figure.Figure at 0xd2a9cc0>"
      ]
     },
     "metadata": {},
     "output_type": "display_data"
    }
   ],
   "source": [
    "layers = [ image_size**2, 1024, num_labels ]\n",
    "costs = model(layers, beta=0.0016, keep_prob=0.5)\n",
    "show(costs)"
   ]
  },
  {
   "cell_type": "markdown",
   "metadata": {
    "colab_type": "text",
    "id": "-b1hTz3VWZjw"
   },
   "source": [
    "---\n",
    "Problem 4\n",
    "---------\n",
    "\n",
    "Try to get the best performance you can using a multi-layer model! The best reported test accuracy using a deep network is [97.1%](http://yaroslavvb.blogspot.com/2011/09/notmnist-dataset.html?showComment=1391023266211#c8758720086795711595).\n",
    "\n",
    "One avenue you can explore is to add multiple layers.\n",
    "\n",
    "Another one is to use learning rate decay:\n",
    "\n",
    "    global_step = tf.Variable(0)  # count the number of steps taken.\n",
    "    learning_rate = tf.train.exponential_decay(0.5, global_step, ...)\n",
    "    optimizer = tf.train.GradientDescentOptimizer(learning_rate).minimize(loss, global_step=global_step)\n",
    " \n",
    " ---\n"
   ]
  },
  {
   "cell_type": "code",
   "execution_count": 21,
   "metadata": {},
   "outputs": [
    {
     "name": "stdout",
     "output_type": "stream",
     "text": [
      "Minibatch loss at step 0: 771.745605\n",
      "Minibatch accuracy: 10.2%\n",
      "Validation accuracy: 35.9%\n",
      "Test accuracy: 37.8%\n",
      "Minibatch loss at step 500: 180.308960\n",
      "Minibatch accuracy: 81.2%\n",
      "Validation accuracy: 81.0%\n",
      "Test accuracy: 88.0%\n",
      "Minibatch loss at step 1000: 72.898376\n",
      "Minibatch accuracy: 84.4%\n",
      "Validation accuracy: 82.5%\n",
      "Test accuracy: 89.2%\n",
      "Minibatch loss at step 1500: 31.764961\n",
      "Minibatch accuracy: 81.6%\n",
      "Validation accuracy: 85.9%\n",
      "Test accuracy: 92.4%\n",
      "Minibatch loss at step 2000: 15.482812\n",
      "Minibatch accuracy: 87.5%\n",
      "Validation accuracy: 87.7%\n",
      "Test accuracy: 93.8%\n",
      "Minibatch loss at step 2500: 8.166276\n",
      "Minibatch accuracy: 88.3%\n",
      "Validation accuracy: 88.2%\n",
      "Test accuracy: 94.1%\n",
      "Minibatch loss at step 3000: 4.534925\n",
      "Minibatch accuracy: 89.5%\n",
      "Validation accuracy: 88.0%\n",
      "Test accuracy: 94.0%\n",
      "Minibatch loss at step 3500: 2.774725\n",
      "Minibatch accuracy: 91.4%\n",
      "Validation accuracy: 88.7%\n",
      "Test accuracy: 94.4%\n",
      "Minibatch loss at step 4000: 1.937585\n",
      "Minibatch accuracy: 89.5%\n",
      "Validation accuracy: 88.6%\n",
      "Test accuracy: 94.6%\n",
      "Minibatch loss at step 4500: 1.359604\n",
      "Minibatch accuracy: 90.2%\n",
      "Validation accuracy: 88.9%\n",
      "Test accuracy: 94.7%\n",
      "Minibatch loss at step 5000: 1.104238\n",
      "Minibatch accuracy: 89.5%\n",
      "Validation accuracy: 88.6%\n",
      "Test accuracy: 94.8%\n",
      "Minibatch loss at step 5500: 0.802490\n",
      "Minibatch accuracy: 93.8%\n",
      "Validation accuracy: 88.6%\n",
      "Test accuracy: 94.6%\n",
      "Minibatch loss at step 6000: 0.805710\n",
      "Minibatch accuracy: 87.5%\n",
      "Validation accuracy: 88.9%\n",
      "Test accuracy: 94.9%\n",
      "Minibatch loss at step 6500: 0.628466\n",
      "Minibatch accuracy: 91.4%\n",
      "Validation accuracy: 89.1%\n",
      "Test accuracy: 95.1%\n",
      "Minibatch loss at step 7000: 0.514845\n",
      "Minibatch accuracy: 94.1%\n",
      "Validation accuracy: 89.0%\n",
      "Test accuracy: 94.9%\n",
      "Minibatch loss at step 7500: 0.591622\n",
      "Minibatch accuracy: 91.0%\n",
      "Validation accuracy: 89.2%\n",
      "Test accuracy: 94.9%\n",
      "Minibatch loss at step 8000: 0.570077\n",
      "Minibatch accuracy: 91.8%\n",
      "Validation accuracy: 89.2%\n",
      "Test accuracy: 94.9%\n",
      "Minibatch loss at step 8500: 0.536438\n",
      "Minibatch accuracy: 91.4%\n",
      "Validation accuracy: 88.9%\n",
      "Test accuracy: 94.8%\n",
      "Minibatch loss at step 9000: 0.523199\n",
      "Minibatch accuracy: 91.4%\n",
      "Validation accuracy: 89.2%\n",
      "Test accuracy: 95.1%\n",
      "Minibatch loss at step 9500: 0.641527\n",
      "Minibatch accuracy: 84.4%\n",
      "Validation accuracy: 89.2%\n",
      "Test accuracy: 95.0%\n",
      "Minibatch loss at step 10000: 0.506144\n",
      "Minibatch accuracy: 90.2%\n",
      "Validation accuracy: 89.4%\n",
      "Test accuracy: 95.2%\n",
      "Minibatch loss at step 10500: 0.471394\n",
      "Minibatch accuracy: 91.0%\n",
      "Validation accuracy: 89.4%\n",
      "Test accuracy: 95.3%\n",
      "Minibatch loss at step 11000: 0.510061\n",
      "Minibatch accuracy: 91.8%\n",
      "Validation accuracy: 89.1%\n",
      "Test accuracy: 95.1%\n",
      "Minibatch loss at step 11500: 0.593713\n",
      "Minibatch accuracy: 88.7%\n",
      "Validation accuracy: 89.3%\n",
      "Test accuracy: 95.1%\n",
      "Minibatch loss at step 12000: 0.424870\n",
      "Minibatch accuracy: 92.2%\n",
      "Validation accuracy: 89.5%\n",
      "Test accuracy: 95.3%\n",
      "Minibatch loss at step 12500: 0.449344\n",
      "Minibatch accuracy: 92.6%\n",
      "Validation accuracy: 89.5%\n",
      "Test accuracy: 95.3%\n",
      "Minibatch loss at step 13000: 0.413312\n",
      "Minibatch accuracy: 91.8%\n",
      "Validation accuracy: 89.6%\n",
      "Test accuracy: 95.3%\n",
      "Minibatch loss at step 13500: 0.473134\n",
      "Minibatch accuracy: 91.4%\n",
      "Validation accuracy: 89.7%\n",
      "Test accuracy: 95.4%\n",
      "Minibatch loss at step 14000: 0.466775\n",
      "Minibatch accuracy: 90.2%\n",
      "Validation accuracy: 89.6%\n",
      "Test accuracy: 95.2%\n",
      "Minibatch loss at step 14500: 0.517795\n",
      "Minibatch accuracy: 90.2%\n",
      "Validation accuracy: 89.5%\n",
      "Test accuracy: 95.3%\n",
      "Minibatch loss at step 15000: 0.388541\n",
      "Minibatch accuracy: 93.0%\n",
      "Validation accuracy: 89.5%\n",
      "Test accuracy: 95.2%\n",
      "Minibatch loss at step 15500: 0.393459\n",
      "Minibatch accuracy: 94.1%\n",
      "Validation accuracy: 89.6%\n",
      "Test accuracy: 95.2%\n",
      "Minibatch loss at step 16000: 0.467893\n",
      "Minibatch accuracy: 91.0%\n",
      "Validation accuracy: 89.6%\n",
      "Test accuracy: 95.4%\n"
     ]
    },
    {
     "data": {
      "image/png": "[encoded data removed]",
      "text/plain": [
       "<matplotlib.figure.Figure at 0xe3f5978>"
      ]
     },
     "metadata": {},
     "output_type": "display_data"
    }
   ],
   "source": [
    "layers = [ image_size**2, 1024, num_labels ]\n",
    "costs = model(layers, learning_rate=0.64, beta=0.0015, decay_rate=0.86, num_iterations=16001, batch_size=256)\n",
    "show(costs)"
   ]
  },
  {
   "cell_type": "code",
   "execution_count": 22,
   "metadata": {},
   "outputs": [
    {
     "name": "stdout",
     "output_type": "stream",
     "text": [
      "Minibatch loss at step 0: 11907.247070\n",
      "Minibatch accuracy: 14.1%\n",
      "Validation accuracy: 18.5%\n",
      "Test accuracy: 19.7%\n",
      "Minibatch loss at step 500: 2138.084717\n",
      "Minibatch accuracy: 78.1%\n",
      "Validation accuracy: 81.1%\n",
      "Test accuracy: 88.1%\n",
      "Minibatch loss at step 1000: 1755.587036\n",
      "Minibatch accuracy: 86.7%\n",
      "Validation accuracy: 82.7%\n",
      "Test accuracy: 89.9%\n",
      "Minibatch loss at step 1500: 1727.902222\n",
      "Minibatch accuracy: 89.1%\n",
      "Validation accuracy: 84.0%\n",
      "Test accuracy: 90.3%\n",
      "Minibatch loss at step 2000: 1646.553223\n",
      "Minibatch accuracy: 91.4%\n",
      "Validation accuracy: 84.3%\n",
      "Test accuracy: 90.9%\n",
      "Minibatch loss at step 2500: 1715.368896\n",
      "Minibatch accuracy: 82.0%\n",
      "Validation accuracy: 84.5%\n",
      "Test accuracy: 91.3%\n",
      "Minibatch loss at step 3000: 1688.637939\n",
      "Minibatch accuracy: 84.4%\n",
      "Validation accuracy: 84.5%\n",
      "Test accuracy: 91.0%\n",
      "Minibatch loss at step 3500: 1605.207031\n",
      "Minibatch accuracy: 93.0%\n",
      "Validation accuracy: 84.7%\n",
      "Test accuracy: 91.7%\n",
      "Minibatch loss at step 4000: 1637.323120\n",
      "Minibatch accuracy: 82.8%\n",
      "Validation accuracy: 84.3%\n",
      "Test accuracy: 91.3%\n",
      "Minibatch loss at step 4500: 1626.531738\n",
      "Minibatch accuracy: 84.4%\n",
      "Validation accuracy: 84.5%\n",
      "Test accuracy: 91.2%\n",
      "Minibatch loss at step 5000: 1576.276245\n",
      "Minibatch accuracy: 87.5%\n",
      "Validation accuracy: 84.7%\n",
      "Test accuracy: 91.4%\n"
     ]
    },
    {
     "data": {
      "image/png": "[encoded data removed]",
      "text/plain": [
       "<matplotlib.figure.Figure at 0xd6955f8>"
      ]
     },
     "metadata": {},
     "output_type": "display_data"
    }
   ],
   "source": [
    "layers = [ image_size**2, 1024, 2048, num_labels ]\n",
    "costs = model(layers, learning_rate=0.0064, beta=0.0015, keep_prob=1.0, decay_rate=0.86, batch_size=128, num_iterations=5001)\n",
    "show(costs)"
   ]
  },
  {
   "cell_type": "code",
   "execution_count": null,
   "metadata": {
    "collapsed": true
   },
   "outputs": [],
   "source": []
  }
 ],
 "metadata": {
  "colab": {
   "default_view": {},
   "name": "3_regularization.ipynb",
   "provenance": [],
   "version": "0.3.2",
   "views": {}
  },
  "kernelspec": {
   "display_name": "Python 3",
   "language": "python",
   "name": "python3"
  },
  "language_info": {
   "codemirror_mode": {
    "name": "ipython",
    "version": 3
   },
   "file_extension": ".py",
   "mimetype": "text/x-python",
   "name": "python",
   "nbconvert_exporter": "python",
   "pygments_lexer": "ipython3",
   "version": "3.5.4"
  }
 },
 "nbformat": 4,
 "nbformat_minor": 1
}
